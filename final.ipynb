{
 "cells": [
  {
   "cell_type": "markdown",
   "source": [
    "# IS597MLC Final Project"
   ],
   "metadata": {
    "collapsed": false
   },
   "id": "c388a76236521912"
  },
  {
   "cell_type": "code",
   "outputs": [],
   "source": [
    "import numpy as np\n",
    "import pandas as pd\n",
    "import seaborn as sns\n",
    "import matplotlib.pyplot as plt"
   ],
   "metadata": {
    "collapsed": false,
    "ExecuteTime": {
     "end_time": "2024-05-05T21:50:36.783376Z",
     "start_time": "2024-05-05T21:50:36.479521Z"
    }
   },
   "id": "922957b309d3d7c9",
   "execution_count": 1
  },
  {
   "cell_type": "markdown",
   "source": [
    "## Ex 1-1. Load Data\n"
   ],
   "metadata": {
    "collapsed": false
   },
   "id": "1a555b1740f45d81"
  },
  {
   "cell_type": "code",
   "outputs": [],
   "source": [
    "# read in data from input csv file\n",
    "\n",
    "df = pd.read_csv('data/OnlineNewsPopularity.csv', sep=',', skipinitialspace=True, dtype={'weekday_is_monday':'int8', 'weekday_is_tuesday':'int8', 'weekday_is_wednesday':'int8', 'weekday_is_thursday':'int8', 'weekday_is_friday':'int8', 'weekday_is_saturday':'int8', 'weekday_is_sunday':'int8', 'is_weekend':'int8', 'data_channel_is_socmed':'int8', 'data_channel_is_lifestyle':'int8', 'data_channel_is_entertainment':'int8', 'data_channel_is_bus':'int8', 'data_channel_is_tech':'int8', 'data_channel_is_world':'int8'})"
   ],
   "metadata": {
    "collapsed": false,
    "ExecuteTime": {
     "end_time": "2024-05-05T21:50:37.558178Z",
     "start_time": "2024-05-05T21:50:36.785126Z"
    }
   },
   "id": "f6eb1b4cad633f70",
   "execution_count": 2
  },
  {
   "cell_type": "code",
   "outputs": [
    {
     "name": "stdout",
     "output_type": "stream",
     "text": [
      "<class 'pandas.core.frame.DataFrame'>\n",
      "RangeIndex: 39644 entries, 0 to 39643\n",
      "Data columns (total 61 columns):\n",
      " #   Column                         Non-Null Count  Dtype  \n",
      "---  ------                         --------------  -----  \n",
      " 0   url                            39644 non-null  object \n",
      " 1   timedelta                      39644 non-null  float64\n",
      " 2   n_tokens_title                 39644 non-null  float64\n",
      " 3   n_tokens_content               39644 non-null  float64\n",
      " 4   n_unique_tokens                39644 non-null  float64\n",
      " 5   n_non_stop_words               39644 non-null  float64\n",
      " 6   n_non_stop_unique_tokens       39644 non-null  float64\n",
      " 7   num_hrefs                      39644 non-null  float64\n",
      " 8   num_self_hrefs                 39644 non-null  float64\n",
      " 9   num_imgs                       39644 non-null  float64\n",
      " 10  num_videos                     39644 non-null  float64\n",
      " 11  average_token_length           39644 non-null  float64\n",
      " 12  num_keywords                   39644 non-null  float64\n",
      " 13  data_channel_is_lifestyle      39644 non-null  int8   \n",
      " 14  data_channel_is_entertainment  39644 non-null  int8   \n",
      " 15  data_channel_is_bus            39644 non-null  int8   \n",
      " 16  data_channel_is_socmed         39644 non-null  int8   \n",
      " 17  data_channel_is_tech           39644 non-null  int8   \n",
      " 18  data_channel_is_world          39644 non-null  int8   \n",
      " 19  kw_min_min                     39644 non-null  float64\n",
      " 20  kw_max_min                     39644 non-null  float64\n",
      " 21  kw_avg_min                     39644 non-null  float64\n",
      " 22  kw_min_max                     39644 non-null  float64\n",
      " 23  kw_max_max                     39644 non-null  float64\n",
      " 24  kw_avg_max                     39644 non-null  float64\n",
      " 25  kw_min_avg                     39644 non-null  float64\n",
      " 26  kw_max_avg                     39644 non-null  float64\n",
      " 27  kw_avg_avg                     39644 non-null  float64\n",
      " 28  self_reference_min_shares      39644 non-null  float64\n",
      " 29  self_reference_max_shares      39644 non-null  float64\n",
      " 30  self_reference_avg_sharess     39644 non-null  float64\n",
      " 31  weekday_is_monday              39644 non-null  int8   \n",
      " 32  weekday_is_tuesday             39644 non-null  int8   \n",
      " 33  weekday_is_wednesday           39644 non-null  int8   \n",
      " 34  weekday_is_thursday            39644 non-null  int8   \n",
      " 35  weekday_is_friday              39644 non-null  int8   \n",
      " 36  weekday_is_saturday            39644 non-null  int8   \n",
      " 37  weekday_is_sunday              39644 non-null  int8   \n",
      " 38  is_weekend                     39644 non-null  int8   \n",
      " 39  LDA_00                         39644 non-null  float64\n",
      " 40  LDA_01                         39644 non-null  float64\n",
      " 41  LDA_02                         39644 non-null  float64\n",
      " 42  LDA_03                         39644 non-null  float64\n",
      " 43  LDA_04                         39644 non-null  float64\n",
      " 44  global_subjectivity            39644 non-null  float64\n",
      " 45  global_sentiment_polarity      39644 non-null  float64\n",
      " 46  global_rate_positive_words     39644 non-null  float64\n",
      " 47  global_rate_negative_words     39644 non-null  float64\n",
      " 48  rate_positive_words            39644 non-null  float64\n",
      " 49  rate_negative_words            39644 non-null  float64\n",
      " 50  avg_positive_polarity          39644 non-null  float64\n",
      " 51  min_positive_polarity          39644 non-null  float64\n",
      " 52  max_positive_polarity          39644 non-null  float64\n",
      " 53  avg_negative_polarity          39644 non-null  float64\n",
      " 54  min_negative_polarity          39644 non-null  float64\n",
      " 55  max_negative_polarity          39644 non-null  float64\n",
      " 56  title_subjectivity             39644 non-null  float64\n",
      " 57  title_sentiment_polarity       39644 non-null  float64\n",
      " 58  abs_title_subjectivity         39644 non-null  float64\n",
      " 59  abs_title_sentiment_polarity   39644 non-null  float64\n",
      " 60  shares                         39644 non-null  int64  \n",
      "dtypes: float64(45), int64(1), int8(14), object(1)\n",
      "memory usage: 14.7+ MB\n"
     ]
    }
   ],
   "source": [
    "df.info()"
   ],
   "metadata": {
    "collapsed": false,
    "ExecuteTime": {
     "end_time": "2024-05-05T21:50:37.632055Z",
     "start_time": "2024-05-05T21:50:37.543738Z"
    }
   },
   "id": "6b00498926c4425d",
   "execution_count": 3
  },
  {
   "cell_type": "code",
   "outputs": [],
   "source": [
    "#check column titles have no space\n",
    "df.columns = df.columns.str.strip()"
   ],
   "metadata": {
    "collapsed": false,
    "ExecuteTime": {
     "end_time": "2024-05-05T21:50:37.644491Z",
     "start_time": "2024-05-05T21:50:37.603727Z"
    }
   },
   "id": "7cd50a6f0dd463d1",
   "execution_count": 4
  },
  {
   "cell_type": "code",
   "execution_count": 5,
   "id": "initial_id",
   "metadata": {
    "collapsed": true,
    "ExecuteTime": {
     "end_time": "2024-05-05T21:50:37.783174Z",
     "start_time": "2024-05-05T21:50:37.622551Z"
    }
   },
   "outputs": [
    {
     "name": "stdout",
     "output_type": "stream",
     "text": [
      "No of Rows: 39644\n",
      "No of Columns: 61\n",
      "\n",
      "Data View: First 5 Instances\n"
     ]
    },
    {
     "data": {
      "text/plain": "                                                 url  timedelta  \\\n0  http://mashable.com/2013/01/07/amazon-instant-...      731.0   \n1  http://mashable.com/2013/01/07/ap-samsung-spon...      731.0   \n2  http://mashable.com/2013/01/07/apple-40-billio...      731.0   \n3  http://mashable.com/2013/01/07/astronaut-notre...      731.0   \n4   http://mashable.com/2013/01/07/att-u-verse-apps/      731.0   \n\n   n_tokens_title  n_tokens_content  n_unique_tokens  n_non_stop_words  \\\n0            12.0             219.0         0.663594               1.0   \n1             9.0             255.0         0.604743               1.0   \n2             9.0             211.0         0.575130               1.0   \n3             9.0             531.0         0.503788               1.0   \n4            13.0            1072.0         0.415646               1.0   \n\n   n_non_stop_unique_tokens  num_hrefs  num_self_hrefs  num_imgs  ...  \\\n0                  0.815385        4.0             2.0       1.0  ...   \n1                  0.791946        3.0             1.0       1.0  ...   \n2                  0.663866        3.0             1.0       1.0  ...   \n3                  0.665635        9.0             0.0       1.0  ...   \n4                  0.540890       19.0            19.0      20.0  ...   \n\n   min_positive_polarity  max_positive_polarity  avg_negative_polarity  \\\n0               0.100000                    0.7              -0.350000   \n1               0.033333                    0.7              -0.118750   \n2               0.100000                    1.0              -0.466667   \n3               0.136364                    0.8              -0.369697   \n4               0.033333                    1.0              -0.220192   \n\n   min_negative_polarity  max_negative_polarity  title_subjectivity  \\\n0                 -0.600              -0.200000            0.500000   \n1                 -0.125              -0.100000            0.000000   \n2                 -0.800              -0.133333            0.000000   \n3                 -0.600              -0.166667            0.000000   \n4                 -0.500              -0.050000            0.454545   \n\n   title_sentiment_polarity  abs_title_subjectivity  \\\n0                 -0.187500                0.000000   \n1                  0.000000                0.500000   \n2                  0.000000                0.500000   \n3                  0.000000                0.500000   \n4                  0.136364                0.045455   \n\n   abs_title_sentiment_polarity  shares  \n0                      0.187500     593  \n1                      0.000000     711  \n2                      0.000000    1500  \n3                      0.000000    1200  \n4                      0.136364     505  \n\n[5 rows x 61 columns]",
      "text/html": "<div>\n<style scoped>\n    .dataframe tbody tr th:only-of-type {\n        vertical-align: middle;\n    }\n\n    .dataframe tbody tr th {\n        vertical-align: top;\n    }\n\n    .dataframe thead th {\n        text-align: right;\n    }\n</style>\n<table border=\"1\" class=\"dataframe\">\n  <thead>\n    <tr style=\"text-align: right;\">\n      <th></th>\n      <th>url</th>\n      <th>timedelta</th>\n      <th>n_tokens_title</th>\n      <th>n_tokens_content</th>\n      <th>n_unique_tokens</th>\n      <th>n_non_stop_words</th>\n      <th>n_non_stop_unique_tokens</th>\n      <th>num_hrefs</th>\n      <th>num_self_hrefs</th>\n      <th>num_imgs</th>\n      <th>...</th>\n      <th>min_positive_polarity</th>\n      <th>max_positive_polarity</th>\n      <th>avg_negative_polarity</th>\n      <th>min_negative_polarity</th>\n      <th>max_negative_polarity</th>\n      <th>title_subjectivity</th>\n      <th>title_sentiment_polarity</th>\n      <th>abs_title_subjectivity</th>\n      <th>abs_title_sentiment_polarity</th>\n      <th>shares</th>\n    </tr>\n  </thead>\n  <tbody>\n    <tr>\n      <th>0</th>\n      <td>http://mashable.com/2013/01/07/amazon-instant-...</td>\n      <td>731.0</td>\n      <td>12.0</td>\n      <td>219.0</td>\n      <td>0.663594</td>\n      <td>1.0</td>\n      <td>0.815385</td>\n      <td>4.0</td>\n      <td>2.0</td>\n      <td>1.0</td>\n      <td>...</td>\n      <td>0.100000</td>\n      <td>0.7</td>\n      <td>-0.350000</td>\n      <td>-0.600</td>\n      <td>-0.200000</td>\n      <td>0.500000</td>\n      <td>-0.187500</td>\n      <td>0.000000</td>\n      <td>0.187500</td>\n      <td>593</td>\n    </tr>\n    <tr>\n      <th>1</th>\n      <td>http://mashable.com/2013/01/07/ap-samsung-spon...</td>\n      <td>731.0</td>\n      <td>9.0</td>\n      <td>255.0</td>\n      <td>0.604743</td>\n      <td>1.0</td>\n      <td>0.791946</td>\n      <td>3.0</td>\n      <td>1.0</td>\n      <td>1.0</td>\n      <td>...</td>\n      <td>0.033333</td>\n      <td>0.7</td>\n      <td>-0.118750</td>\n      <td>-0.125</td>\n      <td>-0.100000</td>\n      <td>0.000000</td>\n      <td>0.000000</td>\n      <td>0.500000</td>\n      <td>0.000000</td>\n      <td>711</td>\n    </tr>\n    <tr>\n      <th>2</th>\n      <td>http://mashable.com/2013/01/07/apple-40-billio...</td>\n      <td>731.0</td>\n      <td>9.0</td>\n      <td>211.0</td>\n      <td>0.575130</td>\n      <td>1.0</td>\n      <td>0.663866</td>\n      <td>3.0</td>\n      <td>1.0</td>\n      <td>1.0</td>\n      <td>...</td>\n      <td>0.100000</td>\n      <td>1.0</td>\n      <td>-0.466667</td>\n      <td>-0.800</td>\n      <td>-0.133333</td>\n      <td>0.000000</td>\n      <td>0.000000</td>\n      <td>0.500000</td>\n      <td>0.000000</td>\n      <td>1500</td>\n    </tr>\n    <tr>\n      <th>3</th>\n      <td>http://mashable.com/2013/01/07/astronaut-notre...</td>\n      <td>731.0</td>\n      <td>9.0</td>\n      <td>531.0</td>\n      <td>0.503788</td>\n      <td>1.0</td>\n      <td>0.665635</td>\n      <td>9.0</td>\n      <td>0.0</td>\n      <td>1.0</td>\n      <td>...</td>\n      <td>0.136364</td>\n      <td>0.8</td>\n      <td>-0.369697</td>\n      <td>-0.600</td>\n      <td>-0.166667</td>\n      <td>0.000000</td>\n      <td>0.000000</td>\n      <td>0.500000</td>\n      <td>0.000000</td>\n      <td>1200</td>\n    </tr>\n    <tr>\n      <th>4</th>\n      <td>http://mashable.com/2013/01/07/att-u-verse-apps/</td>\n      <td>731.0</td>\n      <td>13.0</td>\n      <td>1072.0</td>\n      <td>0.415646</td>\n      <td>1.0</td>\n      <td>0.540890</td>\n      <td>19.0</td>\n      <td>19.0</td>\n      <td>20.0</td>\n      <td>...</td>\n      <td>0.033333</td>\n      <td>1.0</td>\n      <td>-0.220192</td>\n      <td>-0.500</td>\n      <td>-0.050000</td>\n      <td>0.454545</td>\n      <td>0.136364</td>\n      <td>0.045455</td>\n      <td>0.136364</td>\n      <td>505</td>\n    </tr>\n  </tbody>\n</table>\n<p>5 rows × 61 columns</p>\n</div>"
     },
     "execution_count": 5,
     "metadata": {},
     "output_type": "execute_result"
    }
   ],
   "source": [
    "##### Check number of rows and columns\n",
    "print(\"No of Rows: {}\".format(df.shape[0]))\n",
    "print(\"No of Columns: {}\".format(df.shape[1]))\n",
    "\n",
    "##### Check the last 3 instances (rows)\n",
    "print(\"\\nData View: First 5 Instances\")\n",
    "df.head()"
   ]
  },
  {
   "cell_type": "markdown",
   "source": [
    "## Ex 1-2. Descriptive Data Analysis and Visualization\n",
    "\n",
    "* **Look at the data and create a statistical summary of the numerical features.**  "
   ],
   "metadata": {
    "collapsed": false
   },
   "id": "2b78bb4041f41a19"
  },
  {
   "cell_type": "code",
   "outputs": [
    {
     "name": "stdout",
     "output_type": "stream",
     "text": [
      "<class 'pandas.core.frame.DataFrame'>\n",
      "RangeIndex: 39644 entries, 0 to 39643\n",
      "Data columns (total 61 columns):\n",
      " #   Column                         Non-Null Count  Dtype  \n",
      "---  ------                         --------------  -----  \n",
      " 0   url                            39644 non-null  object \n",
      " 1   timedelta                      39644 non-null  float64\n",
      " 2   n_tokens_title                 39644 non-null  float64\n",
      " 3   n_tokens_content               39644 non-null  float64\n",
      " 4   n_unique_tokens                39644 non-null  float64\n",
      " 5   n_non_stop_words               39644 non-null  float64\n",
      " 6   n_non_stop_unique_tokens       39644 non-null  float64\n",
      " 7   num_hrefs                      39644 non-null  float64\n",
      " 8   num_self_hrefs                 39644 non-null  float64\n",
      " 9   num_imgs                       39644 non-null  float64\n",
      " 10  num_videos                     39644 non-null  float64\n",
      " 11  average_token_length           39644 non-null  float64\n",
      " 12  num_keywords                   39644 non-null  float64\n",
      " 13  data_channel_is_lifestyle      39644 non-null  int8   \n",
      " 14  data_channel_is_entertainment  39644 non-null  int8   \n",
      " 15  data_channel_is_bus            39644 non-null  int8   \n",
      " 16  data_channel_is_socmed         39644 non-null  int8   \n",
      " 17  data_channel_is_tech           39644 non-null  int8   \n",
      " 18  data_channel_is_world          39644 non-null  int8   \n",
      " 19  kw_min_min                     39644 non-null  float64\n",
      " 20  kw_max_min                     39644 non-null  float64\n",
      " 21  kw_avg_min                     39644 non-null  float64\n",
      " 22  kw_min_max                     39644 non-null  float64\n",
      " 23  kw_max_max                     39644 non-null  float64\n",
      " 24  kw_avg_max                     39644 non-null  float64\n",
      " 25  kw_min_avg                     39644 non-null  float64\n",
      " 26  kw_max_avg                     39644 non-null  float64\n",
      " 27  kw_avg_avg                     39644 non-null  float64\n",
      " 28  self_reference_min_shares      39644 non-null  float64\n",
      " 29  self_reference_max_shares      39644 non-null  float64\n",
      " 30  self_reference_avg_sharess     39644 non-null  float64\n",
      " 31  weekday_is_monday              39644 non-null  int8   \n",
      " 32  weekday_is_tuesday             39644 non-null  int8   \n",
      " 33  weekday_is_wednesday           39644 non-null  int8   \n",
      " 34  weekday_is_thursday            39644 non-null  int8   \n",
      " 35  weekday_is_friday              39644 non-null  int8   \n",
      " 36  weekday_is_saturday            39644 non-null  int8   \n",
      " 37  weekday_is_sunday              39644 non-null  int8   \n",
      " 38  is_weekend                     39644 non-null  int8   \n",
      " 39  LDA_00                         39644 non-null  float64\n",
      " 40  LDA_01                         39644 non-null  float64\n",
      " 41  LDA_02                         39644 non-null  float64\n",
      " 42  LDA_03                         39644 non-null  float64\n",
      " 43  LDA_04                         39644 non-null  float64\n",
      " 44  global_subjectivity            39644 non-null  float64\n",
      " 45  global_sentiment_polarity      39644 non-null  float64\n",
      " 46  global_rate_positive_words     39644 non-null  float64\n",
      " 47  global_rate_negative_words     39644 non-null  float64\n",
      " 48  rate_positive_words            39644 non-null  float64\n",
      " 49  rate_negative_words            39644 non-null  float64\n",
      " 50  avg_positive_polarity          39644 non-null  float64\n",
      " 51  min_positive_polarity          39644 non-null  float64\n",
      " 52  max_positive_polarity          39644 non-null  float64\n",
      " 53  avg_negative_polarity          39644 non-null  float64\n",
      " 54  min_negative_polarity          39644 non-null  float64\n",
      " 55  max_negative_polarity          39644 non-null  float64\n",
      " 56  title_subjectivity             39644 non-null  float64\n",
      " 57  title_sentiment_polarity       39644 non-null  float64\n",
      " 58  abs_title_subjectivity         39644 non-null  float64\n",
      " 59  abs_title_sentiment_polarity   39644 non-null  float64\n",
      " 60  shares                         39644 non-null  int64  \n",
      "dtypes: float64(45), int64(1), int8(14), object(1)\n",
      "memory usage: 14.7+ MB\n"
     ]
    }
   ],
   "source": [
    "# display data types of each attribute and see if there are any null values\n",
    "\n",
    "df.info()"
   ],
   "metadata": {
    "collapsed": false,
    "ExecuteTime": {
     "end_time": "2024-05-05T21:50:37.846490Z",
     "start_time": "2024-05-05T21:50:37.689533Z"
    }
   },
   "id": "be414bd37d64d487",
   "execution_count": 6
  },
  {
   "cell_type": "code",
   "outputs": [
    {
     "data": {
      "text/plain": "                                 count           mean      min            max\ntimedelta                      39644.0     354.530471  8.00000     731.000000\nn_tokens_title                 39644.0      10.398749  2.00000      23.000000\nn_tokens_content               39644.0     546.514731  0.00000    8474.000000\nn_unique_tokens                39644.0       0.548216  0.00000     701.000000\nn_non_stop_words               39644.0       0.996469  0.00000    1042.000000\nn_non_stop_unique_tokens       39644.0       0.689175  0.00000     650.000000\nnum_hrefs                      39644.0      10.883690  0.00000     304.000000\nnum_self_hrefs                 39644.0       3.293638  0.00000     116.000000\nnum_imgs                       39644.0       4.544143  0.00000     128.000000\nnum_videos                     39644.0       1.249874  0.00000      91.000000\naverage_token_length           39644.0       4.548239  0.00000       8.041534\nnum_keywords                   39644.0       7.223767  1.00000      10.000000\ndata_channel_is_lifestyle      39644.0       0.052946  0.00000       1.000000\ndata_channel_is_entertainment  39644.0       0.178009  0.00000       1.000000\ndata_channel_is_bus            39644.0       0.157855  0.00000       1.000000\ndata_channel_is_socmed         39644.0       0.058597  0.00000       1.000000\ndata_channel_is_tech           39644.0       0.185299  0.00000       1.000000\ndata_channel_is_world          39644.0       0.212567  0.00000       1.000000\nkw_min_min                     39644.0      26.106801 -1.00000     377.000000\nkw_max_min                     39644.0    1153.951682  0.00000  298400.000000\nkw_avg_min                     39644.0     312.366967 -1.00000   42827.857143\nkw_min_max                     39644.0   13612.354102  0.00000  843300.000000\nkw_max_max                     39644.0  752324.066694  0.00000  843300.000000\nkw_avg_max                     39644.0  259281.938083  0.00000  843300.000000\nkw_min_avg                     39644.0    1117.146610 -1.00000    3613.039819\nkw_max_avg                     39644.0    5657.211151  0.00000  298400.000000\nkw_avg_avg                     39644.0    3135.858639  0.00000   43567.659946\nself_reference_min_shares      39644.0    3998.755396  0.00000  843300.000000\nself_reference_max_shares      39644.0   10329.212662  0.00000  843300.000000\nself_reference_avg_sharess     39644.0    6401.697580  0.00000  843300.000000\nweekday_is_monday              39644.0       0.168020  0.00000       1.000000\nweekday_is_tuesday             39644.0       0.186409  0.00000       1.000000\nweekday_is_wednesday           39644.0       0.187544  0.00000       1.000000\nweekday_is_thursday            39644.0       0.183306  0.00000       1.000000\nweekday_is_friday              39644.0       0.143805  0.00000       1.000000\nweekday_is_saturday            39644.0       0.061876  0.00000       1.000000\nweekday_is_sunday              39644.0       0.069039  0.00000       1.000000\nis_weekend                     39644.0       0.130915  0.00000       1.000000\nLDA_00                         39644.0       0.184599  0.00000       0.926994\nLDA_01                         39644.0       0.141256  0.00000       0.925947\nLDA_02                         39644.0       0.216321  0.00000       0.919999\nLDA_03                         39644.0       0.223770  0.00000       0.926534\nLDA_04                         39644.0       0.234029  0.00000       0.927191\nglobal_subjectivity            39644.0       0.443370  0.00000       1.000000\nglobal_sentiment_polarity      39644.0       0.119309 -0.39375       0.727841\nglobal_rate_positive_words     39644.0       0.039625  0.00000       0.155488\nglobal_rate_negative_words     39644.0       0.016612  0.00000       0.184932\nrate_positive_words            39644.0       0.682150  0.00000       1.000000\nrate_negative_words            39644.0       0.287934  0.00000       1.000000\navg_positive_polarity          39644.0       0.353825  0.00000       1.000000\nmin_positive_polarity          39644.0       0.095446  0.00000       1.000000\nmax_positive_polarity          39644.0       0.756728  0.00000       1.000000\navg_negative_polarity          39644.0      -0.259524 -1.00000       0.000000\nmin_negative_polarity          39644.0      -0.521944 -1.00000       0.000000\nmax_negative_polarity          39644.0      -0.107500 -1.00000       0.000000\ntitle_subjectivity             39644.0       0.282353  0.00000       1.000000\ntitle_sentiment_polarity       39644.0       0.071425 -1.00000       1.000000\nabs_title_subjectivity         39644.0       0.341843  0.00000       0.500000\nabs_title_sentiment_polarity   39644.0       0.156064  0.00000       1.000000\nshares                         39644.0    3395.380184  1.00000  843300.000000",
      "text/html": "<div>\n<style scoped>\n    .dataframe tbody tr th:only-of-type {\n        vertical-align: middle;\n    }\n\n    .dataframe tbody tr th {\n        vertical-align: top;\n    }\n\n    .dataframe thead th {\n        text-align: right;\n    }\n</style>\n<table border=\"1\" class=\"dataframe\">\n  <thead>\n    <tr style=\"text-align: right;\">\n      <th></th>\n      <th>count</th>\n      <th>mean</th>\n      <th>min</th>\n      <th>max</th>\n    </tr>\n  </thead>\n  <tbody>\n    <tr>\n      <th>timedelta</th>\n      <td>39644.0</td>\n      <td>354.530471</td>\n      <td>8.00000</td>\n      <td>731.000000</td>\n    </tr>\n    <tr>\n      <th>n_tokens_title</th>\n      <td>39644.0</td>\n      <td>10.398749</td>\n      <td>2.00000</td>\n      <td>23.000000</td>\n    </tr>\n    <tr>\n      <th>n_tokens_content</th>\n      <td>39644.0</td>\n      <td>546.514731</td>\n      <td>0.00000</td>\n      <td>8474.000000</td>\n    </tr>\n    <tr>\n      <th>n_unique_tokens</th>\n      <td>39644.0</td>\n      <td>0.548216</td>\n      <td>0.00000</td>\n      <td>701.000000</td>\n    </tr>\n    <tr>\n      <th>n_non_stop_words</th>\n      <td>39644.0</td>\n      <td>0.996469</td>\n      <td>0.00000</td>\n      <td>1042.000000</td>\n    </tr>\n    <tr>\n      <th>n_non_stop_unique_tokens</th>\n      <td>39644.0</td>\n      <td>0.689175</td>\n      <td>0.00000</td>\n      <td>650.000000</td>\n    </tr>\n    <tr>\n      <th>num_hrefs</th>\n      <td>39644.0</td>\n      <td>10.883690</td>\n      <td>0.00000</td>\n      <td>304.000000</td>\n    </tr>\n    <tr>\n      <th>num_self_hrefs</th>\n      <td>39644.0</td>\n      <td>3.293638</td>\n      <td>0.00000</td>\n      <td>116.000000</td>\n    </tr>\n    <tr>\n      <th>num_imgs</th>\n      <td>39644.0</td>\n      <td>4.544143</td>\n      <td>0.00000</td>\n      <td>128.000000</td>\n    </tr>\n    <tr>\n      <th>num_videos</th>\n      <td>39644.0</td>\n      <td>1.249874</td>\n      <td>0.00000</td>\n      <td>91.000000</td>\n    </tr>\n    <tr>\n      <th>average_token_length</th>\n      <td>39644.0</td>\n      <td>4.548239</td>\n      <td>0.00000</td>\n      <td>8.041534</td>\n    </tr>\n    <tr>\n      <th>num_keywords</th>\n      <td>39644.0</td>\n      <td>7.223767</td>\n      <td>1.00000</td>\n      <td>10.000000</td>\n    </tr>\n    <tr>\n      <th>data_channel_is_lifestyle</th>\n      <td>39644.0</td>\n      <td>0.052946</td>\n      <td>0.00000</td>\n      <td>1.000000</td>\n    </tr>\n    <tr>\n      <th>data_channel_is_entertainment</th>\n      <td>39644.0</td>\n      <td>0.178009</td>\n      <td>0.00000</td>\n      <td>1.000000</td>\n    </tr>\n    <tr>\n      <th>data_channel_is_bus</th>\n      <td>39644.0</td>\n      <td>0.157855</td>\n      <td>0.00000</td>\n      <td>1.000000</td>\n    </tr>\n    <tr>\n      <th>data_channel_is_socmed</th>\n      <td>39644.0</td>\n      <td>0.058597</td>\n      <td>0.00000</td>\n      <td>1.000000</td>\n    </tr>\n    <tr>\n      <th>data_channel_is_tech</th>\n      <td>39644.0</td>\n      <td>0.185299</td>\n      <td>0.00000</td>\n      <td>1.000000</td>\n    </tr>\n    <tr>\n      <th>data_channel_is_world</th>\n      <td>39644.0</td>\n      <td>0.212567</td>\n      <td>0.00000</td>\n      <td>1.000000</td>\n    </tr>\n    <tr>\n      <th>kw_min_min</th>\n      <td>39644.0</td>\n      <td>26.106801</td>\n      <td>-1.00000</td>\n      <td>377.000000</td>\n    </tr>\n    <tr>\n      <th>kw_max_min</th>\n      <td>39644.0</td>\n      <td>1153.951682</td>\n      <td>0.00000</td>\n      <td>298400.000000</td>\n    </tr>\n    <tr>\n      <th>kw_avg_min</th>\n      <td>39644.0</td>\n      <td>312.366967</td>\n      <td>-1.00000</td>\n      <td>42827.857143</td>\n    </tr>\n    <tr>\n      <th>kw_min_max</th>\n      <td>39644.0</td>\n      <td>13612.354102</td>\n      <td>0.00000</td>\n      <td>843300.000000</td>\n    </tr>\n    <tr>\n      <th>kw_max_max</th>\n      <td>39644.0</td>\n      <td>752324.066694</td>\n      <td>0.00000</td>\n      <td>843300.000000</td>\n    </tr>\n    <tr>\n      <th>kw_avg_max</th>\n      <td>39644.0</td>\n      <td>259281.938083</td>\n      <td>0.00000</td>\n      <td>843300.000000</td>\n    </tr>\n    <tr>\n      <th>kw_min_avg</th>\n      <td>39644.0</td>\n      <td>1117.146610</td>\n      <td>-1.00000</td>\n      <td>3613.039819</td>\n    </tr>\n    <tr>\n      <th>kw_max_avg</th>\n      <td>39644.0</td>\n      <td>5657.211151</td>\n      <td>0.00000</td>\n      <td>298400.000000</td>\n    </tr>\n    <tr>\n      <th>kw_avg_avg</th>\n      <td>39644.0</td>\n      <td>3135.858639</td>\n      <td>0.00000</td>\n      <td>43567.659946</td>\n    </tr>\n    <tr>\n      <th>self_reference_min_shares</th>\n      <td>39644.0</td>\n      <td>3998.755396</td>\n      <td>0.00000</td>\n      <td>843300.000000</td>\n    </tr>\n    <tr>\n      <th>self_reference_max_shares</th>\n      <td>39644.0</td>\n      <td>10329.212662</td>\n      <td>0.00000</td>\n      <td>843300.000000</td>\n    </tr>\n    <tr>\n      <th>self_reference_avg_sharess</th>\n      <td>39644.0</td>\n      <td>6401.697580</td>\n      <td>0.00000</td>\n      <td>843300.000000</td>\n    </tr>\n    <tr>\n      <th>weekday_is_monday</th>\n      <td>39644.0</td>\n      <td>0.168020</td>\n      <td>0.00000</td>\n      <td>1.000000</td>\n    </tr>\n    <tr>\n      <th>weekday_is_tuesday</th>\n      <td>39644.0</td>\n      <td>0.186409</td>\n      <td>0.00000</td>\n      <td>1.000000</td>\n    </tr>\n    <tr>\n      <th>weekday_is_wednesday</th>\n      <td>39644.0</td>\n      <td>0.187544</td>\n      <td>0.00000</td>\n      <td>1.000000</td>\n    </tr>\n    <tr>\n      <th>weekday_is_thursday</th>\n      <td>39644.0</td>\n      <td>0.183306</td>\n      <td>0.00000</td>\n      <td>1.000000</td>\n    </tr>\n    <tr>\n      <th>weekday_is_friday</th>\n      <td>39644.0</td>\n      <td>0.143805</td>\n      <td>0.00000</td>\n      <td>1.000000</td>\n    </tr>\n    <tr>\n      <th>weekday_is_saturday</th>\n      <td>39644.0</td>\n      <td>0.061876</td>\n      <td>0.00000</td>\n      <td>1.000000</td>\n    </tr>\n    <tr>\n      <th>weekday_is_sunday</th>\n      <td>39644.0</td>\n      <td>0.069039</td>\n      <td>0.00000</td>\n      <td>1.000000</td>\n    </tr>\n    <tr>\n      <th>is_weekend</th>\n      <td>39644.0</td>\n      <td>0.130915</td>\n      <td>0.00000</td>\n      <td>1.000000</td>\n    </tr>\n    <tr>\n      <th>LDA_00</th>\n      <td>39644.0</td>\n      <td>0.184599</td>\n      <td>0.00000</td>\n      <td>0.926994</td>\n    </tr>\n    <tr>\n      <th>LDA_01</th>\n      <td>39644.0</td>\n      <td>0.141256</td>\n      <td>0.00000</td>\n      <td>0.925947</td>\n    </tr>\n    <tr>\n      <th>LDA_02</th>\n      <td>39644.0</td>\n      <td>0.216321</td>\n      <td>0.00000</td>\n      <td>0.919999</td>\n    </tr>\n    <tr>\n      <th>LDA_03</th>\n      <td>39644.0</td>\n      <td>0.223770</td>\n      <td>0.00000</td>\n      <td>0.926534</td>\n    </tr>\n    <tr>\n      <th>LDA_04</th>\n      <td>39644.0</td>\n      <td>0.234029</td>\n      <td>0.00000</td>\n      <td>0.927191</td>\n    </tr>\n    <tr>\n      <th>global_subjectivity</th>\n      <td>39644.0</td>\n      <td>0.443370</td>\n      <td>0.00000</td>\n      <td>1.000000</td>\n    </tr>\n    <tr>\n      <th>global_sentiment_polarity</th>\n      <td>39644.0</td>\n      <td>0.119309</td>\n      <td>-0.39375</td>\n      <td>0.727841</td>\n    </tr>\n    <tr>\n      <th>global_rate_positive_words</th>\n      <td>39644.0</td>\n      <td>0.039625</td>\n      <td>0.00000</td>\n      <td>0.155488</td>\n    </tr>\n    <tr>\n      <th>global_rate_negative_words</th>\n      <td>39644.0</td>\n      <td>0.016612</td>\n      <td>0.00000</td>\n      <td>0.184932</td>\n    </tr>\n    <tr>\n      <th>rate_positive_words</th>\n      <td>39644.0</td>\n      <td>0.682150</td>\n      <td>0.00000</td>\n      <td>1.000000</td>\n    </tr>\n    <tr>\n      <th>rate_negative_words</th>\n      <td>39644.0</td>\n      <td>0.287934</td>\n      <td>0.00000</td>\n      <td>1.000000</td>\n    </tr>\n    <tr>\n      <th>avg_positive_polarity</th>\n      <td>39644.0</td>\n      <td>0.353825</td>\n      <td>0.00000</td>\n      <td>1.000000</td>\n    </tr>\n    <tr>\n      <th>min_positive_polarity</th>\n      <td>39644.0</td>\n      <td>0.095446</td>\n      <td>0.00000</td>\n      <td>1.000000</td>\n    </tr>\n    <tr>\n      <th>max_positive_polarity</th>\n      <td>39644.0</td>\n      <td>0.756728</td>\n      <td>0.00000</td>\n      <td>1.000000</td>\n    </tr>\n    <tr>\n      <th>avg_negative_polarity</th>\n      <td>39644.0</td>\n      <td>-0.259524</td>\n      <td>-1.00000</td>\n      <td>0.000000</td>\n    </tr>\n    <tr>\n      <th>min_negative_polarity</th>\n      <td>39644.0</td>\n      <td>-0.521944</td>\n      <td>-1.00000</td>\n      <td>0.000000</td>\n    </tr>\n    <tr>\n      <th>max_negative_polarity</th>\n      <td>39644.0</td>\n      <td>-0.107500</td>\n      <td>-1.00000</td>\n      <td>0.000000</td>\n    </tr>\n    <tr>\n      <th>title_subjectivity</th>\n      <td>39644.0</td>\n      <td>0.282353</td>\n      <td>0.00000</td>\n      <td>1.000000</td>\n    </tr>\n    <tr>\n      <th>title_sentiment_polarity</th>\n      <td>39644.0</td>\n      <td>0.071425</td>\n      <td>-1.00000</td>\n      <td>1.000000</td>\n    </tr>\n    <tr>\n      <th>abs_title_subjectivity</th>\n      <td>39644.0</td>\n      <td>0.341843</td>\n      <td>0.00000</td>\n      <td>0.500000</td>\n    </tr>\n    <tr>\n      <th>abs_title_sentiment_polarity</th>\n      <td>39644.0</td>\n      <td>0.156064</td>\n      <td>0.00000</td>\n      <td>1.000000</td>\n    </tr>\n    <tr>\n      <th>shares</th>\n      <td>39644.0</td>\n      <td>3395.380184</td>\n      <td>1.00000</td>\n      <td>843300.000000</td>\n    </tr>\n  </tbody>\n</table>\n</div>"
     },
     "execution_count": 7,
     "metadata": {},
     "output_type": "execute_result"
    }
   ],
   "source": [
    "# display count, mean, min and max values for each attribute.\n",
    "df.describe().T[['count', 'mean', 'min', 'max']]\n"
   ],
   "metadata": {
    "collapsed": false,
    "ExecuteTime": {
     "end_time": "2024-05-05T21:50:38.197782Z",
     "start_time": "2024-05-05T21:50:37.737476Z"
    }
   },
   "id": "53dc79f8e3275c30",
   "execution_count": 7
  },
  {
   "cell_type": "code",
   "outputs": [
    {
     "name": "stdout",
     "output_type": "stream",
     "text": [
      "Column 'url' contains non-numeric values and will be skipped.\n",
      "Column 'kw_min_min' contains values less than 0.\n",
      "Column 'kw_avg_min' contains values less than 0.\n",
      "Column 'kw_min_avg' contains values less than 0.\n",
      "Column 'global_sentiment_polarity' contains values less than 0.\n",
      "Column 'avg_negative_polarity' contains values less than 0.\n",
      "Column 'min_negative_polarity' contains values less than 0.\n",
      "Column 'max_negative_polarity' contains values less than 0.\n",
      "Column 'title_sentiment_polarity' contains values less than 0.\n"
     ]
    }
   ],
   "source": [
    "# Iterate over each column\n",
    "for column in df.columns:\n",
    "    # Check if the column contains numeric values\n",
    "    if pd.api.types.is_numeric_dtype(df[column]):\n",
    "        # Check if any value in the column is less than 0\n",
    "        if (df[column] < 0).any():\n",
    "            # If any value is less than 0, print the column name\n",
    "            print(f\"Column '{column}' contains values less than 0.\")\n",
    "    else:\n",
    "        print(f\"Column '{column}' contains non-numeric values and will be skipped.\")\n"
   ],
   "metadata": {
    "collapsed": false,
    "ExecuteTime": {
     "end_time": "2024-05-05T21:50:38.200914Z",
     "start_time": "2024-05-05T21:50:38.076562Z"
    }
   },
   "id": "10e13003e5032262",
   "execution_count": 8
  },
  {
   "cell_type": "code",
   "outputs": [
    {
     "data": {
      "text/plain": "9365    http://mashable.com/2013/07/03/low-cost-iphone/\nName: url, dtype: object"
     },
     "execution_count": 9,
     "metadata": {},
     "output_type": "execute_result"
    }
   ],
   "source": [
    "# get target column\n",
    "#last_column_name = df.columns[-1]\n",
    "#print(last_column_name)\n",
    "\n",
    "# 使用列名來選取列\n",
    "#df[last_column_name]\n",
    "\n",
    "df[df['shares'] == 843300]['url']"
   ],
   "metadata": {
    "collapsed": false,
    "ExecuteTime": {
     "end_time": "2024-05-05T21:50:38.214953Z",
     "start_time": "2024-05-05T21:50:38.103665Z"
    }
   },
   "id": "9a9f4ad26489af12",
   "execution_count": 9
  },
  {
   "cell_type": "markdown",
   "source": [
    "## Ex 1-2. Cleaning data\n",
    "1. shares: y > 1400 -> popular(1), y <1400 -> unpopular(0)\n",
    "2. remove timedelta < 21\n",
    "3. 1-of-C編碼/ one-hot-encoding\n",
    "4. logarithmic transformation\n",
    "- Number of words in the article\n",
    "- Number of words in the title\n",
    "- Number of links\n",
    "- Number of Mashable article links\n",
    "- Number of keywords\n",
    "5. \n"
   ],
   "metadata": {
    "collapsed": false
   },
   "id": "b8d9e9ebe2a15689"
  },
  {
   "cell_type": "markdown",
   "source": [
    "### 1. shares: y > 1400 -> popular(1), y <1400 -> unpopular(0)"
   ],
   "metadata": {
    "collapsed": false
   },
   "id": "d3c4e51c25c133d8"
  },
  {
   "cell_type": "code",
   "outputs": [
    {
     "data": {
      "text/plain": "0        0\n1        0\n2        1\n3        0\n4        0\n        ..\n39639    1\n39640    1\n39641    1\n39642    0\n39643    0\nName: shares, Length: 39644, dtype: int64"
     },
     "execution_count": 10,
     "metadata": {},
     "output_type": "execute_result"
    }
   ],
   "source": [
    "# Don't run two times!!!\n",
    "\n",
    "df['shares'] = (df['shares'] >= 1400).astype(int)\n",
    "df['shares']"
   ],
   "metadata": {
    "collapsed": false,
    "ExecuteTime": {
     "end_time": "2024-05-05T21:50:38.230420Z",
     "start_time": "2024-05-05T21:50:38.121556Z"
    }
   },
   "id": "4eee52ea37860cd3",
   "execution_count": 10
  },
  {
   "cell_type": "code",
   "outputs": [
    {
     "name": "stdout",
     "output_type": "stream",
     "text": [
      "\n",
      "Class Counts(label, row):\n",
      "\n",
      "1    21154\n",
      "0    18490\n",
      "Name: shares, dtype: int64\n"
     ]
    }
   ],
   "source": [
    "### Check label distribution of target class\n",
    "print('\\nClass Counts(label, row):\\n')\n",
    "print(df[\"shares\"].value_counts())"
   ],
   "metadata": {
    "collapsed": false,
    "ExecuteTime": {
     "end_time": "2024-05-05T21:50:38.244646Z",
     "start_time": "2024-05-05T21:50:38.144236Z"
    }
   },
   "id": "80cc5a55409cf70c",
   "execution_count": 11
  },
  {
   "cell_type": "markdown",
   "source": [],
   "metadata": {
    "collapsed": false
   },
   "id": "cafe838e8afc47f8"
  },
  {
   "cell_type": "markdown",
   "source": [
    "## # 2. remove timedelta < 21"
   ],
   "metadata": {
    "collapsed": false
   },
   "id": "c8237ab3b213dcbe"
  },
  {
   "cell_type": "code",
   "outputs": [
    {
     "name": "stdout",
     "output_type": "stream",
     "text": [
      "No of rows (Before removing duplicates): 39644\n",
      "No of columns: 61\n"
     ]
    }
   ],
   "source": [
    "#### Check number of rows and columns\n",
    "print(\"No of rows (Before removing duplicates): {}\".format(df.shape[0]))\n",
    "print(\"No of columns: {}\".format(df.shape[1]))"
   ],
   "metadata": {
    "collapsed": false,
    "ExecuteTime": {
     "end_time": "2024-05-05T21:50:38.261618Z",
     "start_time": "2024-05-05T21:50:38.159970Z"
    }
   },
   "id": "4f8aaf884bd355fa",
   "execution_count": 12
  },
  {
   "cell_type": "code",
   "outputs": [],
   "source": [
    "df = df[df['timedelta'] > 22]"
   ],
   "metadata": {
    "collapsed": false,
    "ExecuteTime": {
     "end_time": "2024-05-05T21:50:38.444435Z",
     "start_time": "2024-05-05T21:50:38.166355Z"
    }
   },
   "id": "2acf0ea9bd2d012a",
   "execution_count": 13
  },
  {
   "cell_type": "code",
   "outputs": [
    {
     "name": "stdout",
     "output_type": "stream",
     "text": [
      "No of rows (After removing duplicates): 38929\n",
      "No of columns: 61\n"
     ]
    }
   ],
   "source": [
    "#### Check number of rows and columns\n",
    "print(\"No of rows (After removing duplicates): {}\".format(df.shape[0]))\n",
    "print(\"No of columns: {}\".format(df.shape[1]))"
   ],
   "metadata": {
    "collapsed": false,
    "ExecuteTime": {
     "end_time": "2024-05-05T21:50:38.468854Z",
     "start_time": "2024-05-05T21:50:38.178385Z"
    }
   },
   "id": "e30b64a0d54a1ee8",
   "execution_count": 14
  },
  {
   "cell_type": "markdown",
   "source": [
    "## One-Hot-Encoding\n",
    "No need in this dataset."
   ],
   "metadata": {
    "collapsed": false
   },
   "id": "c2e61d1750461001"
  },
  {
   "cell_type": "code",
   "outputs": [],
   "source": [
    "# 假設 'col1' 和 'col2' 需要被one-hot encoded\n",
    "#one_hot_encoded_df = pd.get_dummies(df, columns=['col1', 'col2'])\n"
   ],
   "metadata": {
    "collapsed": false,
    "ExecuteTime": {
     "end_time": "2024-05-05T21:50:38.471604Z",
     "start_time": "2024-05-05T21:50:38.187943Z"
    }
   },
   "id": "88398405007499e2",
   "execution_count": 15
  },
  {
   "cell_type": "markdown",
   "source": [
    "## logarithmic transformation\n",
    "Box automatic effect good!!"
   ],
   "metadata": {
    "collapsed": false
   },
   "id": "27a7f4c747c12c82"
  },
  {
   "cell_type": "code",
   "outputs": [],
   "source": [
    "# 繪製直方圖\n",
    "from scipy import stats\n",
    "def process_column(column):\n",
    "    \n",
    "    # 計算原始數據的偏度\n",
    "    original_skew = column.skew()\n",
    "    print(f\"Original_Skew ({column.name}): {original_skew}\")\n",
    "    \n",
    "    if abs(original_skew) > 197:\n",
    "        # 對數轉換\n",
    "        log_column = np.log1p(column + 0.2)\n",
    "        # 計算對數轉換後的偏度\n",
    "        transformed_skew = log_column.skew()\n",
    "        print(f\"Adjusted_Skew ({column.name}): {transformed_skew}\")\n",
    "        \n",
    "    elif abs(original_skew) > 100:\n",
    "        # 繪製原始數據的直方圖\n",
    "        # plt.figure(figsize=(12, 6))\n",
    "        # plt.subplot(1, 2, 1)\n",
    "        # sns.histplot(column, kde=True)\n",
    "        # plt.title('Original Data')\n",
    "        \n",
    "        # 對數轉換\n",
    "        # log_column = np.log1p(column)\n",
    "        # # 計算對數轉換後的偏度\n",
    "        # transformed_skew = log_column.skew()\n",
    "        # print(f\"轉換後偏度 ({column.name}): {transformed_skew}\")\n",
    "        \n",
    "        # Box-Cox 转换\n",
    "        # boxcox_data, best_lambda = stats.boxcox(data + 1)\n",
    "        # print(f\"Automatically chosen best lambda: {best_lambda}\")\n",
    "        # -0.14\n",
    "        \n",
    "        boxcox_data = stats.boxcox(column + 1, lmbda=-0.1)  # 确保数据非负\n",
    "        boxcox_skew = pd.Series(boxcox_data).skew()\n",
    "        print(f\"Box-Cox Transformed Skewness: {boxcox_skew:.2f}\")\n",
    "        \n",
    "        # Box-Cox 转换\n",
    "        # boxcox_data = stats.boxcox(column)\n",
    "        # transformed_skew = boxcox_data.skew()\n",
    "        # print(f\"轉換後偏度 ({column.name}): {transformed_skew}\")\n",
    "        \n",
    "        \n",
    "        # 繪製對數轉換後的直方圖\n",
    "        # plt.subplot(1, 2, 2)\n",
    "        # sns.histplot(log_column, kde=True)\n",
    "        # plt.title('Log Transformed Data')\n",
    "        # plt.show()\n",
    "        \n",
    "    elif abs(original_skew) > 1:\n",
    "        # 平方根转换\n",
    "        # sqrt_column = np.sqrt(column)\n",
    "        # transformed_skew = sqrt_column.skew()\n",
    "        # print(f\"轉換後偏度 ({column.name}): {transformed_skew}\")\n",
    "    \n",
    "        # Box-Cox 转换\n",
    "        boxcox_data, best_lambda = stats.boxcox(column + 1)\n",
    "        # print(f\"Automatically chosen best lambda: {best_lambda}\")\n",
    "        boxcox_skew = pd.Series(boxcox_data).skew()\n",
    "        print(f\"Box-Cox Transformed Skewness: {boxcox_skew:.2f}\")\n",
    "        \n",
    "       \n",
    "    else:\n",
    "        print(f\"No transformation needed for {column.name} as skewness is within the acceptable range.\")\n",
    "\n"
   ],
   "metadata": {
    "collapsed": false,
    "ExecuteTime": {
     "end_time": "2024-05-05T21:50:38.521099Z",
     "start_time": "2024-05-05T21:50:38.208218Z"
    }
   },
   "id": "28987d2c72f2f576",
   "execution_count": 16
  },
  {
   "cell_type": "code",
   "outputs": [
    {
     "name": "stdout",
     "output_type": "stream",
     "text": [
      "原始偏度 (timedelta): 0.11549508894728407\n",
      "No transformation needed for timedelta as skewness is within the acceptable range.\n",
      "原始偏度 (n_tokens_title): 0.1576273802440848\n",
      "No transformation needed for n_tokens_title as skewness is within the acceptable range.\n",
      "原始偏度 (n_tokens_content): 2.9644027125828436\n",
      "Box-Cox Transformed Skewness: 0.15\n",
      "原始偏度 (n_unique_tokens): 196.8720758088769\n",
      "Box-Cox Transformed Skewness: 0.35\n",
      "原始偏度 (n_non_stop_words): 197.0125858048128\n",
      "轉換後偏度 (n_non_stop_words): 0.24459084046691537\n",
      "原始偏度 (n_non_stop_unique_tokens): 196.67450010021756\n",
      "Box-Cox Transformed Skewness: -1.28\n",
      "原始偏度 (num_hrefs): 3.6842840626475946\n",
      "Box-Cox Transformed Skewness: 0.01\n",
      "原始偏度 (num_self_hrefs): 5.13508051370449\n",
      "Box-Cox Transformed Skewness: -0.00\n",
      "原始偏度 (num_imgs): 3.9323798246956128\n",
      "Box-Cox Transformed Skewness: 0.18\n",
      "原始偏度 (num_videos): 6.977273998403185\n",
      "Box-Cox Transformed Skewness: 0.67\n",
      "原始偏度 (average_token_length): -4.668426371738234\n",
      "Box-Cox Transformed Skewness: 0.41\n",
      "原始偏度 (num_keywords): -0.15265907458773004\n",
      "No transformation needed for num_keywords as skewness is within the acceptable range.\n"
     ]
    }
   ],
   "source": [
    "for column in df.iloc[:,1:13].columns:\n",
    "    process_column(df[column])\n"
   ],
   "metadata": {
    "collapsed": false,
    "ExecuteTime": {
     "end_time": "2024-05-05T21:50:38.914427Z",
     "start_time": "2024-05-05T21:50:38.218200Z"
    }
   },
   "id": "16608efb27994044",
   "execution_count": 17
  },
  {
   "cell_type": "code",
   "outputs": [
    {
     "data": {
      "text/plain": "Index(['self_reference_min_shares', 'self_reference_max_shares',\n       'self_reference_avg_sharess'],\n      dtype='object')"
     },
     "execution_count": 18,
     "metadata": {},
     "output_type": "execute_result"
    }
   ],
   "source": [
    "df.iloc[:,28:31].columns"
   ],
   "metadata": {
    "collapsed": false,
    "ExecuteTime": {
     "end_time": "2024-05-05T21:50:38.963712Z",
     "start_time": "2024-05-05T21:50:38.686820Z"
    }
   },
   "id": "6e8e184375cf9a99",
   "execution_count": 18
  },
  {
   "cell_type": "code",
   "outputs": [
    {
     "name": "stdout",
     "output_type": "stream",
     "text": [
      "原始偏度 (self_reference_min_shares): 26.065400244302268\n",
      "Box-Cox Transformed Skewness: -0.03\n",
      "原始偏度 (self_reference_max_shares): 13.76349860406461\n",
      "Box-Cox Transformed Skewness: -0.10\n",
      "原始偏度 (self_reference_avg_sharess): 17.77876707160907\n",
      "Box-Cox Transformed Skewness: -0.09\n"
     ]
    }
   ],
   "source": [
    "for column in df.iloc[:,28:31].columns:\n",
    "    process_column(df[column])"
   ],
   "metadata": {
    "collapsed": false,
    "ExecuteTime": {
     "end_time": "2024-05-05T21:50:39.121692Z",
     "start_time": "2024-05-05T21:50:38.701111Z"
    }
   },
   "id": "2d8358c26a93bc3e",
   "execution_count": 19
  },
  {
   "cell_type": "markdown",
   "source": [
    "## 5. Get the columns we need."
   ],
   "metadata": {
    "collapsed": false
   },
   "id": "e920dfaf213413f9"
  },
  {
   "cell_type": "code",
   "outputs": [
    {
     "name": "stdout",
     "output_type": "stream",
     "text": [
      "No of rows (Before removing duplicates): 38929\n",
      "No of columns: 61\n",
      "No of rows (After removing duplicates): 38929\n",
      "No of columns: 61\n"
     ]
    }
   ],
   "source": [
    "#### Remove duplicates using 'pmid' column and keep first occurrence\n",
    "\n",
    "print(\"No of rows (Before removing duplicates): {}\".format(df.shape[0]))\n",
    "print(\"No of columns: {}\".format(df.shape[1]))\n",
    "df.drop_duplicates(subset=['url'], keep='first', inplace=True)\n",
    "print(\"No of rows (After removing duplicates): {}\".format(df.shape[0]))\n",
    "print(\"No of columns: {}\".format(df.shape[1]))"
   ],
   "metadata": {
    "collapsed": false,
    "ExecuteTime": {
     "end_time": "2024-05-05T21:50:39.237635Z",
     "start_time": "2024-05-05T21:50:38.973475Z"
    }
   },
   "id": "513daa3aafeff2e4",
   "execution_count": 20
  },
  {
   "cell_type": "markdown",
   "source": [
    "## 6.Select text column to be used for processing"
   ],
   "metadata": {
    "collapsed": false
   },
   "id": "e075202339b1ba06"
  },
  {
   "cell_type": "code",
   "outputs": [],
   "source": [
    "df_selected = df.iloc[:, 2:]"
   ],
   "metadata": {
    "collapsed": false,
    "ExecuteTime": {
     "end_time": "2024-05-05T21:50:39.265870Z",
     "start_time": "2024-05-05T21:50:39.030770Z"
    }
   },
   "id": "ed4a2b19cf447b",
   "execution_count": 21
  },
  {
   "cell_type": "markdown",
   "source": [
    "## Ex 1-5. Split data\n"
   ],
   "metadata": {
    "collapsed": false
   },
   "id": "976a46714b39c494"
  },
  {
   "cell_type": "code",
   "outputs": [],
   "source": [
    "#### Split data from 'df_selected' into X_data and y_data\n",
    "#### y_data must contain data from label column only\n",
    "#### X_data includes data from all the other columns\n",
    "\n",
    "# Insert your code here\n",
    "X_data, y_data = df_selected.iloc[:, :-1], df_selected.iloc[:, -1]"
   ],
   "metadata": {
    "collapsed": false,
    "ExecuteTime": {
     "end_time": "2024-05-05T21:50:39.284304Z",
     "start_time": "2024-05-05T21:50:39.077128Z"
    }
   },
   "id": "937d4750340b553a",
   "execution_count": 22
  },
  {
   "cell_type": "markdown",
   "source": [],
   "metadata": {
    "collapsed": false
   },
   "id": "cb8946663c35239b"
  },
  {
   "cell_type": "code",
   "outputs": [
    {
     "data": {
      "text/plain": "   n_tokens_title  n_tokens_content  n_unique_tokens  n_non_stop_words  \\\n0            12.0             219.0         0.663594               1.0   \n1             9.0             255.0         0.604743               1.0   \n2             9.0             211.0         0.575130               1.0   \n3             9.0             531.0         0.503788               1.0   \n4            13.0            1072.0         0.415646               1.0   \n\n   n_non_stop_unique_tokens  num_hrefs  num_self_hrefs  num_imgs  num_videos  \\\n0                  0.815385        4.0             2.0       1.0         0.0   \n1                  0.791946        3.0             1.0       1.0         0.0   \n2                  0.663866        3.0             1.0       1.0         0.0   \n3                  0.665635        9.0             0.0       1.0         0.0   \n4                  0.540890       19.0            19.0      20.0         0.0   \n\n   average_token_length  ...  avg_positive_polarity  min_positive_polarity  \\\n0              4.680365  ...               0.378636               0.100000   \n1              4.913725  ...               0.286915               0.033333   \n2              4.393365  ...               0.495833               0.100000   \n3              4.404896  ...               0.385965               0.136364   \n4              4.682836  ...               0.411127               0.033333   \n\n   max_positive_polarity  avg_negative_polarity  min_negative_polarity  \\\n0                    0.7              -0.350000                 -0.600   \n1                    0.7              -0.118750                 -0.125   \n2                    1.0              -0.466667                 -0.800   \n3                    0.8              -0.369697                 -0.600   \n4                    1.0              -0.220192                 -0.500   \n\n   max_negative_polarity  title_subjectivity  title_sentiment_polarity  \\\n0              -0.200000            0.500000                 -0.187500   \n1              -0.100000            0.000000                  0.000000   \n2              -0.133333            0.000000                  0.000000   \n3              -0.166667            0.000000                  0.000000   \n4              -0.050000            0.454545                  0.136364   \n\n   abs_title_subjectivity  abs_title_sentiment_polarity  \n0                0.000000                      0.187500  \n1                0.500000                      0.000000  \n2                0.500000                      0.000000  \n3                0.500000                      0.000000  \n4                0.045455                      0.136364  \n\n[5 rows x 58 columns]",
      "text/html": "<div>\n<style scoped>\n    .dataframe tbody tr th:only-of-type {\n        vertical-align: middle;\n    }\n\n    .dataframe tbody tr th {\n        vertical-align: top;\n    }\n\n    .dataframe thead th {\n        text-align: right;\n    }\n</style>\n<table border=\"1\" class=\"dataframe\">\n  <thead>\n    <tr style=\"text-align: right;\">\n      <th></th>\n      <th>n_tokens_title</th>\n      <th>n_tokens_content</th>\n      <th>n_unique_tokens</th>\n      <th>n_non_stop_words</th>\n      <th>n_non_stop_unique_tokens</th>\n      <th>num_hrefs</th>\n      <th>num_self_hrefs</th>\n      <th>num_imgs</th>\n      <th>num_videos</th>\n      <th>average_token_length</th>\n      <th>...</th>\n      <th>avg_positive_polarity</th>\n      <th>min_positive_polarity</th>\n      <th>max_positive_polarity</th>\n      <th>avg_negative_polarity</th>\n      <th>min_negative_polarity</th>\n      <th>max_negative_polarity</th>\n      <th>title_subjectivity</th>\n      <th>title_sentiment_polarity</th>\n      <th>abs_title_subjectivity</th>\n      <th>abs_title_sentiment_polarity</th>\n    </tr>\n  </thead>\n  <tbody>\n    <tr>\n      <th>0</th>\n      <td>12.0</td>\n      <td>219.0</td>\n      <td>0.663594</td>\n      <td>1.0</td>\n      <td>0.815385</td>\n      <td>4.0</td>\n      <td>2.0</td>\n      <td>1.0</td>\n      <td>0.0</td>\n      <td>4.680365</td>\n      <td>...</td>\n      <td>0.378636</td>\n      <td>0.100000</td>\n      <td>0.7</td>\n      <td>-0.350000</td>\n      <td>-0.600</td>\n      <td>-0.200000</td>\n      <td>0.500000</td>\n      <td>-0.187500</td>\n      <td>0.000000</td>\n      <td>0.187500</td>\n    </tr>\n    <tr>\n      <th>1</th>\n      <td>9.0</td>\n      <td>255.0</td>\n      <td>0.604743</td>\n      <td>1.0</td>\n      <td>0.791946</td>\n      <td>3.0</td>\n      <td>1.0</td>\n      <td>1.0</td>\n      <td>0.0</td>\n      <td>4.913725</td>\n      <td>...</td>\n      <td>0.286915</td>\n      <td>0.033333</td>\n      <td>0.7</td>\n      <td>-0.118750</td>\n      <td>-0.125</td>\n      <td>-0.100000</td>\n      <td>0.000000</td>\n      <td>0.000000</td>\n      <td>0.500000</td>\n      <td>0.000000</td>\n    </tr>\n    <tr>\n      <th>2</th>\n      <td>9.0</td>\n      <td>211.0</td>\n      <td>0.575130</td>\n      <td>1.0</td>\n      <td>0.663866</td>\n      <td>3.0</td>\n      <td>1.0</td>\n      <td>1.0</td>\n      <td>0.0</td>\n      <td>4.393365</td>\n      <td>...</td>\n      <td>0.495833</td>\n      <td>0.100000</td>\n      <td>1.0</td>\n      <td>-0.466667</td>\n      <td>-0.800</td>\n      <td>-0.133333</td>\n      <td>0.000000</td>\n      <td>0.000000</td>\n      <td>0.500000</td>\n      <td>0.000000</td>\n    </tr>\n    <tr>\n      <th>3</th>\n      <td>9.0</td>\n      <td>531.0</td>\n      <td>0.503788</td>\n      <td>1.0</td>\n      <td>0.665635</td>\n      <td>9.0</td>\n      <td>0.0</td>\n      <td>1.0</td>\n      <td>0.0</td>\n      <td>4.404896</td>\n      <td>...</td>\n      <td>0.385965</td>\n      <td>0.136364</td>\n      <td>0.8</td>\n      <td>-0.369697</td>\n      <td>-0.600</td>\n      <td>-0.166667</td>\n      <td>0.000000</td>\n      <td>0.000000</td>\n      <td>0.500000</td>\n      <td>0.000000</td>\n    </tr>\n    <tr>\n      <th>4</th>\n      <td>13.0</td>\n      <td>1072.0</td>\n      <td>0.415646</td>\n      <td>1.0</td>\n      <td>0.540890</td>\n      <td>19.0</td>\n      <td>19.0</td>\n      <td>20.0</td>\n      <td>0.0</td>\n      <td>4.682836</td>\n      <td>...</td>\n      <td>0.411127</td>\n      <td>0.033333</td>\n      <td>1.0</td>\n      <td>-0.220192</td>\n      <td>-0.500</td>\n      <td>-0.050000</td>\n      <td>0.454545</td>\n      <td>0.136364</td>\n      <td>0.045455</td>\n      <td>0.136364</td>\n    </tr>\n  </tbody>\n</table>\n<p>5 rows × 58 columns</p>\n</div>"
     },
     "execution_count": 23,
     "metadata": {},
     "output_type": "execute_result"
    }
   ],
   "source": [
    "#### Check the first 5 instance of X_data\n",
    "\n",
    "# Insert your code here\n",
    "\n",
    "X_data.head()"
   ],
   "metadata": {
    "collapsed": false,
    "ExecuteTime": {
     "end_time": "2024-05-05T21:50:39.325805Z",
     "start_time": "2024-05-05T21:50:39.107460Z"
    }
   },
   "id": "bcaea9bde0a258db",
   "execution_count": 23
  },
  {
   "cell_type": "markdown",
   "source": [
    "## Ex 2-1. Train and test split\n"
   ],
   "metadata": {
    "collapsed": false
   },
   "id": "53774ff494c813f2"
  },
  {
   "cell_type": "code",
   "outputs": [],
   "source": [
    "#### Split data into the subsets of train, validation, and test\n",
    "#### with a Ratio of 8:1:1.\n",
    "#### Make sure to stratify data in each set using the parameter named 'stratify'\n",
    "#### which aligns with the distribution of label class.\n",
    "#### Set the parameter values of random_state to 5 for reproducibility.\n",
    "from nltk.stem import PorterStemmer, WordNetLemmatizer\n",
    "from sklearn.model_selection import train_test_split\n",
    "# Insert your code here\n",
    "\n",
    "X_train, X_test, y_train, y_test = train_test_split(X_data, y_data, test_size=0.2, random_state=5, stratify=y_data)\n",
    "X_val, X_test, y_val, y_test = train_test_split(X_test,y_test, test_size=0.5, random_state=5, stratify=y_test)"
   ],
   "metadata": {
    "collapsed": false,
    "ExecuteTime": {
     "end_time": "2024-05-05T21:50:41.155771Z",
     "start_time": "2024-05-05T21:50:39.147456Z"
    }
   },
   "id": "7a253da694c73500",
   "execution_count": 24
  },
  {
   "cell_type": "code",
   "outputs": [
    {
     "data": {
      "text/plain": "       n_tokens_title  n_tokens_content  n_unique_tokens  n_non_stop_words  \\\n15042             7.0             180.0         0.691860               1.0   \n19544            10.0             557.0         0.546296               1.0   \n7297              9.0             259.0         0.600840               1.0   \n13445            11.0             192.0         0.619792               1.0   \n12003             7.0             285.0         0.609929               1.0   \n...               ...               ...              ...               ...   \n23109            10.0               0.0         0.000000               0.0   \n28182            13.0             220.0         0.631336               1.0   \n24099            11.0             487.0         0.500000               1.0   \n17506            12.0             268.0         0.566540               1.0   \n11472             8.0             163.0         0.704698               1.0   \n\n       n_non_stop_unique_tokens  num_hrefs  num_self_hrefs  num_imgs  \\\n15042                  0.798246        3.0             1.0       1.0   \n19544                  0.714286        6.0             5.0      12.0   \n7297                   0.651899        8.0             7.0       1.0   \n13445                  0.798077        4.0             0.0       1.0   \n12003                  0.793548        7.0             3.0       0.0   \n...                         ...        ...             ...       ...   \n23109                  0.000000        0.0             0.0       8.0   \n28182                  0.834711        1.0             1.0       0.0   \n24099                  0.673835        6.0             4.0       1.0   \n17506                  0.679487        6.0             5.0       1.0   \n11472                  0.806122        4.0             3.0       0.0   \n\n       num_videos  average_token_length  ...  avg_positive_polarity  \\\n15042         0.0              5.077778  ...               0.379966   \n19544         0.0              4.587074  ...               0.421998   \n7297          0.0              4.154440  ...               0.349632   \n13445         1.0              4.526042  ...               0.365909   \n12003         1.0              4.375439  ...               0.399944   \n...           ...                   ...  ...                    ...   \n23109         0.0              0.000000  ...               0.000000   \n28182         1.0              4.309091  ...               0.285859   \n24099         0.0              4.889117  ...               0.326599   \n17506         0.0              4.578358  ...               0.409091   \n11472        13.0              4.484663  ...               0.480000   \n\n       min_positive_polarity  max_positive_polarity  avg_negative_polarity  \\\n15042               0.033333                    0.5              -0.233333   \n19544               0.100000                    1.0              -0.276389   \n7297                0.033333                    0.6              -0.203846   \n13445               0.200000                    0.6              -0.353333   \n12003               0.062500                    0.8              -0.333333   \n...                      ...                    ...                    ...   \n23109               0.000000                    0.0               0.000000   \n28182               0.136364                    0.6              -0.100000   \n24099               0.100000                    0.8              -0.296429   \n17506               0.166667                    0.8              -0.309524   \n11472               0.400000                    0.6              -0.325000   \n\n       min_negative_polarity  max_negative_polarity  title_subjectivity  \\\n15042                  -0.30              -0.200000            0.100000   \n19544                  -0.75              -0.125000            0.500000   \n7297                   -0.40              -0.100000            0.400000   \n13445                  -0.40              -0.166667            0.350000   \n12003                  -0.50              -0.166667            0.500000   \n...                      ...                    ...                 ...   \n23109                   0.00               0.000000            0.000000   \n28182                  -0.10              -0.100000            0.750000   \n24099                  -0.50              -0.050000            0.000000   \n17506                  -0.50              -0.155556            0.244444   \n11472                  -0.40              -0.250000            0.000000   \n\n       title_sentiment_polarity  abs_title_subjectivity  \\\n15042                  0.300000                0.400000   \n19544                  0.500000                0.000000   \n7297                  -0.400000                0.100000   \n13445                 -0.100000                0.150000   \n12003                 -0.500000                0.000000   \n...                         ...                     ...   \n23109                  0.000000                0.500000   \n28182                 -0.125000                0.250000   \n24099                  0.000000                0.500000   \n17506                  0.022222                0.255556   \n11472                  0.000000                0.500000   \n\n       abs_title_sentiment_polarity  \n15042                      0.300000  \n19544                      0.500000  \n7297                       0.400000  \n13445                      0.100000  \n12003                      0.500000  \n...                             ...  \n23109                      0.000000  \n28182                      0.125000  \n24099                      0.000000  \n17506                      0.022222  \n11472                      0.000000  \n\n[31143 rows x 58 columns]",
      "text/html": "<div>\n<style scoped>\n    .dataframe tbody tr th:only-of-type {\n        vertical-align: middle;\n    }\n\n    .dataframe tbody tr th {\n        vertical-align: top;\n    }\n\n    .dataframe thead th {\n        text-align: right;\n    }\n</style>\n<table border=\"1\" class=\"dataframe\">\n  <thead>\n    <tr style=\"text-align: right;\">\n      <th></th>\n      <th>n_tokens_title</th>\n      <th>n_tokens_content</th>\n      <th>n_unique_tokens</th>\n      <th>n_non_stop_words</th>\n      <th>n_non_stop_unique_tokens</th>\n      <th>num_hrefs</th>\n      <th>num_self_hrefs</th>\n      <th>num_imgs</th>\n      <th>num_videos</th>\n      <th>average_token_length</th>\n      <th>...</th>\n      <th>avg_positive_polarity</th>\n      <th>min_positive_polarity</th>\n      <th>max_positive_polarity</th>\n      <th>avg_negative_polarity</th>\n      <th>min_negative_polarity</th>\n      <th>max_negative_polarity</th>\n      <th>title_subjectivity</th>\n      <th>title_sentiment_polarity</th>\n      <th>abs_title_subjectivity</th>\n      <th>abs_title_sentiment_polarity</th>\n    </tr>\n  </thead>\n  <tbody>\n    <tr>\n      <th>15042</th>\n      <td>7.0</td>\n      <td>180.0</td>\n      <td>0.691860</td>\n      <td>1.0</td>\n      <td>0.798246</td>\n      <td>3.0</td>\n      <td>1.0</td>\n      <td>1.0</td>\n      <td>0.0</td>\n      <td>5.077778</td>\n      <td>...</td>\n      <td>0.379966</td>\n      <td>0.033333</td>\n      <td>0.5</td>\n      <td>-0.233333</td>\n      <td>-0.30</td>\n      <td>-0.200000</td>\n      <td>0.100000</td>\n      <td>0.300000</td>\n      <td>0.400000</td>\n      <td>0.300000</td>\n    </tr>\n    <tr>\n      <th>19544</th>\n      <td>10.0</td>\n      <td>557.0</td>\n      <td>0.546296</td>\n      <td>1.0</td>\n      <td>0.714286</td>\n      <td>6.0</td>\n      <td>5.0</td>\n      <td>12.0</td>\n      <td>0.0</td>\n      <td>4.587074</td>\n      <td>...</td>\n      <td>0.421998</td>\n      <td>0.100000</td>\n      <td>1.0</td>\n      <td>-0.276389</td>\n      <td>-0.75</td>\n      <td>-0.125000</td>\n      <td>0.500000</td>\n      <td>0.500000</td>\n      <td>0.000000</td>\n      <td>0.500000</td>\n    </tr>\n    <tr>\n      <th>7297</th>\n      <td>9.0</td>\n      <td>259.0</td>\n      <td>0.600840</td>\n      <td>1.0</td>\n      <td>0.651899</td>\n      <td>8.0</td>\n      <td>7.0</td>\n      <td>1.0</td>\n      <td>0.0</td>\n      <td>4.154440</td>\n      <td>...</td>\n      <td>0.349632</td>\n      <td>0.033333</td>\n      <td>0.6</td>\n      <td>-0.203846</td>\n      <td>-0.40</td>\n      <td>-0.100000</td>\n      <td>0.400000</td>\n      <td>-0.400000</td>\n      <td>0.100000</td>\n      <td>0.400000</td>\n    </tr>\n    <tr>\n      <th>13445</th>\n      <td>11.0</td>\n      <td>192.0</td>\n      <td>0.619792</td>\n      <td>1.0</td>\n      <td>0.798077</td>\n      <td>4.0</td>\n      <td>0.0</td>\n      <td>1.0</td>\n      <td>1.0</td>\n      <td>4.526042</td>\n      <td>...</td>\n      <td>0.365909</td>\n      <td>0.200000</td>\n      <td>0.6</td>\n      <td>-0.353333</td>\n      <td>-0.40</td>\n      <td>-0.166667</td>\n      <td>0.350000</td>\n      <td>-0.100000</td>\n      <td>0.150000</td>\n      <td>0.100000</td>\n    </tr>\n    <tr>\n      <th>12003</th>\n      <td>7.0</td>\n      <td>285.0</td>\n      <td>0.609929</td>\n      <td>1.0</td>\n      <td>0.793548</td>\n      <td>7.0</td>\n      <td>3.0</td>\n      <td>0.0</td>\n      <td>1.0</td>\n      <td>4.375439</td>\n      <td>...</td>\n      <td>0.399944</td>\n      <td>0.062500</td>\n      <td>0.8</td>\n      <td>-0.333333</td>\n      <td>-0.50</td>\n      <td>-0.166667</td>\n      <td>0.500000</td>\n      <td>-0.500000</td>\n      <td>0.000000</td>\n      <td>0.500000</td>\n    </tr>\n    <tr>\n      <th>...</th>\n      <td>...</td>\n      <td>...</td>\n      <td>...</td>\n      <td>...</td>\n      <td>...</td>\n      <td>...</td>\n      <td>...</td>\n      <td>...</td>\n      <td>...</td>\n      <td>...</td>\n      <td>...</td>\n      <td>...</td>\n      <td>...</td>\n      <td>...</td>\n      <td>...</td>\n      <td>...</td>\n      <td>...</td>\n      <td>...</td>\n      <td>...</td>\n      <td>...</td>\n      <td>...</td>\n    </tr>\n    <tr>\n      <th>23109</th>\n      <td>10.0</td>\n      <td>0.0</td>\n      <td>0.000000</td>\n      <td>0.0</td>\n      <td>0.000000</td>\n      <td>0.0</td>\n      <td>0.0</td>\n      <td>8.0</td>\n      <td>0.0</td>\n      <td>0.000000</td>\n      <td>...</td>\n      <td>0.000000</td>\n      <td>0.000000</td>\n      <td>0.0</td>\n      <td>0.000000</td>\n      <td>0.00</td>\n      <td>0.000000</td>\n      <td>0.000000</td>\n      <td>0.000000</td>\n      <td>0.500000</td>\n      <td>0.000000</td>\n    </tr>\n    <tr>\n      <th>28182</th>\n      <td>13.0</td>\n      <td>220.0</td>\n      <td>0.631336</td>\n      <td>1.0</td>\n      <td>0.834711</td>\n      <td>1.0</td>\n      <td>1.0</td>\n      <td>0.0</td>\n      <td>1.0</td>\n      <td>4.309091</td>\n      <td>...</td>\n      <td>0.285859</td>\n      <td>0.136364</td>\n      <td>0.6</td>\n      <td>-0.100000</td>\n      <td>-0.10</td>\n      <td>-0.100000</td>\n      <td>0.750000</td>\n      <td>-0.125000</td>\n      <td>0.250000</td>\n      <td>0.125000</td>\n    </tr>\n    <tr>\n      <th>24099</th>\n      <td>11.0</td>\n      <td>487.0</td>\n      <td>0.500000</td>\n      <td>1.0</td>\n      <td>0.673835</td>\n      <td>6.0</td>\n      <td>4.0</td>\n      <td>1.0</td>\n      <td>0.0</td>\n      <td>4.889117</td>\n      <td>...</td>\n      <td>0.326599</td>\n      <td>0.100000</td>\n      <td>0.8</td>\n      <td>-0.296429</td>\n      <td>-0.50</td>\n      <td>-0.050000</td>\n      <td>0.000000</td>\n      <td>0.000000</td>\n      <td>0.500000</td>\n      <td>0.000000</td>\n    </tr>\n    <tr>\n      <th>17506</th>\n      <td>12.0</td>\n      <td>268.0</td>\n      <td>0.566540</td>\n      <td>1.0</td>\n      <td>0.679487</td>\n      <td>6.0</td>\n      <td>5.0</td>\n      <td>1.0</td>\n      <td>0.0</td>\n      <td>4.578358</td>\n      <td>...</td>\n      <td>0.409091</td>\n      <td>0.166667</td>\n      <td>0.8</td>\n      <td>-0.309524</td>\n      <td>-0.50</td>\n      <td>-0.155556</td>\n      <td>0.244444</td>\n      <td>0.022222</td>\n      <td>0.255556</td>\n      <td>0.022222</td>\n    </tr>\n    <tr>\n      <th>11472</th>\n      <td>8.0</td>\n      <td>163.0</td>\n      <td>0.704698</td>\n      <td>1.0</td>\n      <td>0.806122</td>\n      <td>4.0</td>\n      <td>3.0</td>\n      <td>0.0</td>\n      <td>13.0</td>\n      <td>4.484663</td>\n      <td>...</td>\n      <td>0.480000</td>\n      <td>0.400000</td>\n      <td>0.6</td>\n      <td>-0.325000</td>\n      <td>-0.40</td>\n      <td>-0.250000</td>\n      <td>0.000000</td>\n      <td>0.000000</td>\n      <td>0.500000</td>\n      <td>0.000000</td>\n    </tr>\n  </tbody>\n</table>\n<p>31143 rows × 58 columns</p>\n</div>"
     },
     "execution_count": 25,
     "metadata": {},
     "output_type": "execute_result"
    }
   ],
   "source": [
    "X_train"
   ],
   "metadata": {
    "collapsed": false,
    "ExecuteTime": {
     "end_time": "2024-05-05T21:50:41.207493Z",
     "start_time": "2024-05-05T21:50:41.146503Z"
    }
   },
   "id": "e884e281d9cdf7ea",
   "execution_count": 25
  },
  {
   "cell_type": "code",
   "outputs": [
    {
     "name": "stdout",
     "output_type": "stream",
     "text": [
      "\n",
      "************** Data After Splitting **************\n",
      "\n",
      "Train Data: (31143, 58)\n",
      "Val Data: (3893, 58)\n",
      "Test Data: (3893, 58)\n",
      "\n",
      "\n",
      "************** Class Label Distribution **************\n",
      "\n",
      "Class Counts(label, row): Train\n",
      "1    16617\n",
      "0    14526\n",
      "Name: shares, dtype: int64\n",
      "\n",
      "Class Counts(label, row): Validation\n",
      "1    2077\n",
      "0    1816\n",
      "Name: shares, dtype: int64\n",
      "\n",
      "Class Counts(label, row): Test\n",
      "1    2078\n",
      "0    1815\n",
      "Name: shares, dtype: int64\n"
     ]
    }
   ],
   "source": [
    "#### Check the data view of each data set\n",
    "\n",
    "# Insert your code here\n",
    "\n",
    "\n",
    "print(\"\\n************** Data After Splitting **************\\n\")\n",
    "\n",
    "## Data Shape\n",
    "print(\"Train Data: {}\".format(X_train.shape))\n",
    "print(\"Val Data: {}\".format(X_val.shape))\n",
    "print(\"Test Data: {}\".format(X_test.shape))\n",
    "\n",
    "print(\"\\n\\n************** Class Label Distribution **************\")\n",
    "## Label Distribution\n",
    "print('\\nClass Counts(label, row): Train')\n",
    "print(y_train.value_counts())\n",
    "print('\\nClass Counts(label, row): Validation')\n",
    "print(y_val.value_counts())\n",
    "print('\\nClass Counts(label, row): Test')\n",
    "print(y_test.value_counts())"
   ],
   "metadata": {
    "collapsed": false,
    "ExecuteTime": {
     "end_time": "2024-05-05T21:50:41.249231Z",
     "start_time": "2024-05-05T21:50:41.225258Z"
    }
   },
   "id": "3109b93d50ed64d5",
   "execution_count": 26
  },
  {
   "cell_type": "code",
   "outputs": [
    {
     "name": "stdout",
     "output_type": "stream",
     "text": [
      "\n",
      "\n",
      "************** First 5 Instances of Data **************\n",
      "\n",
      "First 5 Instance: Train\n",
      "       n_tokens_title  n_tokens_content  n_unique_tokens  n_non_stop_words  \\\n",
      "15042             7.0             180.0         0.691860               1.0   \n",
      "19544            10.0             557.0         0.546296               1.0   \n",
      "7297              9.0             259.0         0.600840               1.0   \n",
      "13445            11.0             192.0         0.619792               1.0   \n",
      "12003             7.0             285.0         0.609929               1.0   \n",
      "\n",
      "       n_non_stop_unique_tokens  num_hrefs  num_self_hrefs  num_imgs  \\\n",
      "15042                  0.798246        3.0             1.0       1.0   \n",
      "19544                  0.714286        6.0             5.0      12.0   \n",
      "7297                   0.651899        8.0             7.0       1.0   \n",
      "13445                  0.798077        4.0             0.0       1.0   \n",
      "12003                  0.793548        7.0             3.0       0.0   \n",
      "\n",
      "       num_videos  average_token_length  ...  avg_positive_polarity  \\\n",
      "15042         0.0              5.077778  ...               0.379966   \n",
      "19544         0.0              4.587074  ...               0.421998   \n",
      "7297          0.0              4.154440  ...               0.349632   \n",
      "13445         1.0              4.526042  ...               0.365909   \n",
      "12003         1.0              4.375439  ...               0.399944   \n",
      "\n",
      "       min_positive_polarity  max_positive_polarity  avg_negative_polarity  \\\n",
      "15042               0.033333                    0.5              -0.233333   \n",
      "19544               0.100000                    1.0              -0.276389   \n",
      "7297                0.033333                    0.6              -0.203846   \n",
      "13445               0.200000                    0.6              -0.353333   \n",
      "12003               0.062500                    0.8              -0.333333   \n",
      "\n",
      "       min_negative_polarity  max_negative_polarity  title_subjectivity  \\\n",
      "15042                  -0.30              -0.200000                0.10   \n",
      "19544                  -0.75              -0.125000                0.50   \n",
      "7297                   -0.40              -0.100000                0.40   \n",
      "13445                  -0.40              -0.166667                0.35   \n",
      "12003                  -0.50              -0.166667                0.50   \n",
      "\n",
      "       title_sentiment_polarity  abs_title_subjectivity  \\\n",
      "15042                       0.3                    0.40   \n",
      "19544                       0.5                    0.00   \n",
      "7297                       -0.4                    0.10   \n",
      "13445                      -0.1                    0.15   \n",
      "12003                      -0.5                    0.00   \n",
      "\n",
      "       abs_title_sentiment_polarity  \n",
      "15042                           0.3  \n",
      "19544                           0.5  \n",
      "7297                            0.4  \n",
      "13445                           0.1  \n",
      "12003                           0.5  \n",
      "\n",
      "[5 rows x 58 columns]\n",
      "\n",
      "First 5 Instance: Validation\n",
      "       n_tokens_title  n_tokens_content  n_unique_tokens  n_non_stop_words  \\\n",
      "22328             8.0             575.0         0.497345               1.0   \n",
      "17027            11.0             364.0         0.538226               1.0   \n",
      "31771            11.0             515.0         0.507937               1.0   \n",
      "21657            13.0             912.0         0.470520               1.0   \n",
      "3767             12.0             256.0         0.723577               1.0   \n",
      "\n",
      "       n_non_stop_unique_tokens  num_hrefs  num_self_hrefs  num_imgs  \\\n",
      "22328                  0.646552        9.0             4.0       7.0   \n",
      "17027                  0.617391       21.0             6.0       1.0   \n",
      "31771                  0.699029       17.0             1.0       1.0   \n",
      "21657                  0.616438       45.0             3.0      42.0   \n",
      "3767                   0.816092        5.0             5.0       1.0   \n",
      "\n",
      "       num_videos  average_token_length  ...  avg_positive_polarity  \\\n",
      "22328         0.0              4.709565  ...               0.382531   \n",
      "17027         2.0              4.835165  ...               0.331818   \n",
      "31771         0.0              5.040777  ...               0.266469   \n",
      "21657         1.0              5.281798  ...               0.504408   \n",
      "3767         14.0              4.398438  ...               0.395105   \n",
      "\n",
      "       min_positive_polarity  max_positive_polarity  avg_negative_polarity  \\\n",
      "22328               0.033333                   1.00              -0.389103   \n",
      "17027               0.100000                   0.50               0.000000   \n",
      "31771               0.100000                   0.60              -0.270833   \n",
      "21657               0.100000                   1.00              -0.277083   \n",
      "3767                0.100000                   0.85              -0.206494   \n",
      "\n",
      "       min_negative_polarity  max_negative_polarity  title_subjectivity  \\\n",
      "22328                   -0.9              -0.100000            0.050000   \n",
      "17027                    0.0               0.000000            0.900000   \n",
      "31771                   -0.5              -0.100000            0.377273   \n",
      "21657                   -1.0              -0.050000            0.875000   \n",
      "3767                    -0.5              -0.071429            0.400000   \n",
      "\n",
      "       title_sentiment_polarity  abs_title_subjectivity  \\\n",
      "22328                 -0.050000                0.450000   \n",
      "17027                  0.400000                0.400000   \n",
      "31771                 -0.090152                0.122727   \n",
      "21657                 -0.500000                0.375000   \n",
      "3767                  -0.100000                0.100000   \n",
      "\n",
      "       abs_title_sentiment_polarity  \n",
      "22328                      0.050000  \n",
      "17027                      0.400000  \n",
      "31771                      0.090152  \n",
      "21657                      0.500000  \n",
      "3767                       0.100000  \n",
      "\n",
      "[5 rows x 58 columns]\n",
      "\n",
      "First 5 Instance: Test\n",
      "       n_tokens_title  n_tokens_content  n_unique_tokens  n_non_stop_words  \\\n",
      "36742            14.0             452.0         0.500000               1.0   \n",
      "31227            12.0             313.0         0.593548               1.0   \n",
      "18713            12.0             537.0         0.510436               1.0   \n",
      "10877             8.0             306.0         0.611111               1.0   \n",
      "9144             10.0             754.0         0.513405               1.0   \n",
      "\n",
      "       n_non_stop_unique_tokens  num_hrefs  num_self_hrefs  num_imgs  \\\n",
      "36742                  0.656604        8.0             6.0       2.0   \n",
      "31227                  0.766304        7.0             5.0       2.0   \n",
      "18713                  0.704918       10.0             1.0       1.0   \n",
      "10877                  0.735751        4.0             0.0       1.0   \n",
      "9144                   0.728337       25.0             2.0       1.0   \n",
      "\n",
      "       num_videos  average_token_length  ...  avg_positive_polarity  \\\n",
      "36742         0.0              4.794248  ...               0.266331   \n",
      "31227         0.0              4.747604  ...               0.325455   \n",
      "18713         0.0              4.757914  ...               0.578846   \n",
      "10877         0.0              4.758170  ...               0.290391   \n",
      "9144         11.0              4.521220  ...               0.373966   \n",
      "\n",
      "       min_positive_polarity  max_positive_polarity  avg_negative_polarity  \\\n",
      "36742               0.062500                    0.5              -0.116667   \n",
      "31227               0.100000                    0.7              -0.157292   \n",
      "18713               0.166667                    1.0              -0.181633   \n",
      "10877               0.033333                    0.8              -0.125000   \n",
      "9144                0.100000                    0.8              -0.403613   \n",
      "\n",
      "       min_negative_polarity  max_negative_polarity  title_subjectivity  \\\n",
      "36742                 -0.125              -0.100000            0.727273   \n",
      "31227                 -0.400              -0.050000            0.427273   \n",
      "18713                 -0.400              -0.071429            0.433333   \n",
      "10877                 -0.125              -0.125000            0.066667   \n",
      "9144                  -1.000              -0.071429            1.000000   \n",
      "\n",
      "       title_sentiment_polarity  abs_title_subjectivity  \\\n",
      "36742                  0.068182                0.227273   \n",
      "31227                 -0.056818                0.072727   \n",
      "18713                 -0.166667                0.066667   \n",
      "10877                  0.033333                0.433333   \n",
      "9144                  -0.600000                0.500000   \n",
      "\n",
      "       abs_title_sentiment_polarity  \n",
      "36742                      0.068182  \n",
      "31227                      0.056818  \n",
      "18713                      0.166667  \n",
      "10877                      0.033333  \n",
      "9144                       0.600000  \n",
      "\n",
      "[5 rows x 58 columns]\n"
     ]
    }
   ],
   "source": [
    "## Display the first 5 instances of X data\n",
    "print(\"\\n\\n************** First 5 Instances of Data **************\")\n",
    "print(\"\\nFirst 5 Instance: Train\")\n",
    "print(X_train.head())\n",
    "print(\"\\nFirst 5 Instance: Validation\")\n",
    "print(X_val.head())\n",
    "print(\"\\nFirst 5 Instance: Test\")\n",
    "print(X_test.head())"
   ],
   "metadata": {
    "collapsed": false,
    "ExecuteTime": {
     "end_time": "2024-05-05T21:50:41.417641Z",
     "start_time": "2024-05-05T21:50:41.239780Z"
    }
   },
   "id": "3336364c2f49019e",
   "execution_count": 27
  },
  {
   "cell_type": "markdown",
   "source": [
    "## Ex 2-2. Reset index of instances in each subset\n"
   ],
   "metadata": {
    "collapsed": false
   },
   "id": "238a3131c4739ffe"
  },
  {
   "cell_type": "code",
   "outputs": [],
   "source": [
    "#### Reset index of X, y data in Train, Validation, test sets\n",
    "\n",
    "# Insert your code here\n",
    "\n",
    "# Train Data\n",
    "X_train=X_train.reset_index(drop=True)\n",
    "y_train=y_train.reset_index(drop=True)\n",
    "\n",
    "# Validation Data\n",
    "X_val=X_val.reset_index(drop=True)\n",
    "y_val=y_val.reset_index(drop=True)\n",
    "\n",
    "# Test Data\n",
    "X_test=X_test.reset_index(drop=True)\n",
    "y_test=y_test.reset_index(drop=True)"
   ],
   "metadata": {
    "collapsed": false,
    "ExecuteTime": {
     "end_time": "2024-05-05T21:50:41.470702Z",
     "start_time": "2024-05-05T21:50:41.290646Z"
    }
   },
   "id": "a55f32a67457e87f",
   "execution_count": 28
  },
  {
   "cell_type": "code",
   "outputs": [
    {
     "name": "stdout",
     "output_type": "stream",
     "text": [
      "\n",
      "************** Data After Index Reset **************\n",
      "\n",
      "\n",
      "************** First 5 Instances of Data **************\n",
      "\n",
      "First 5 Instance: Train\n",
      "   n_tokens_title  n_tokens_content  n_unique_tokens  n_non_stop_words  \\\n",
      "0             7.0             180.0         0.691860               1.0   \n",
      "1            10.0             557.0         0.546296               1.0   \n",
      "2             9.0             259.0         0.600840               1.0   \n",
      "3            11.0             192.0         0.619792               1.0   \n",
      "4             7.0             285.0         0.609929               1.0   \n",
      "\n",
      "   n_non_stop_unique_tokens  num_hrefs  num_self_hrefs  num_imgs  num_videos  \\\n",
      "0                  0.798246        3.0             1.0       1.0         0.0   \n",
      "1                  0.714286        6.0             5.0      12.0         0.0   \n",
      "2                  0.651899        8.0             7.0       1.0         0.0   \n",
      "3                  0.798077        4.0             0.0       1.0         1.0   \n",
      "4                  0.793548        7.0             3.0       0.0         1.0   \n",
      "\n",
      "   average_token_length  ...  avg_positive_polarity  min_positive_polarity  \\\n",
      "0              5.077778  ...               0.379966               0.033333   \n",
      "1              4.587074  ...               0.421998               0.100000   \n",
      "2              4.154440  ...               0.349632               0.033333   \n",
      "3              4.526042  ...               0.365909               0.200000   \n",
      "4              4.375439  ...               0.399944               0.062500   \n",
      "\n",
      "   max_positive_polarity  avg_negative_polarity  min_negative_polarity  \\\n",
      "0                    0.5              -0.233333                  -0.30   \n",
      "1                    1.0              -0.276389                  -0.75   \n",
      "2                    0.6              -0.203846                  -0.40   \n",
      "3                    0.6              -0.353333                  -0.40   \n",
      "4                    0.8              -0.333333                  -0.50   \n",
      "\n",
      "   max_negative_polarity  title_subjectivity  title_sentiment_polarity  \\\n",
      "0              -0.200000                0.10                       0.3   \n",
      "1              -0.125000                0.50                       0.5   \n",
      "2              -0.100000                0.40                      -0.4   \n",
      "3              -0.166667                0.35                      -0.1   \n",
      "4              -0.166667                0.50                      -0.5   \n",
      "\n",
      "   abs_title_subjectivity  abs_title_sentiment_polarity  \n",
      "0                    0.40                           0.3  \n",
      "1                    0.00                           0.5  \n",
      "2                    0.10                           0.4  \n",
      "3                    0.15                           0.1  \n",
      "4                    0.00                           0.5  \n",
      "\n",
      "[5 rows x 58 columns]\n",
      "\n",
      "First 5 Instance: Validation\n",
      "   n_tokens_title  n_tokens_content  n_unique_tokens  n_non_stop_words  \\\n",
      "0             8.0             575.0         0.497345               1.0   \n",
      "1            11.0             364.0         0.538226               1.0   \n",
      "2            11.0             515.0         0.507937               1.0   \n",
      "3            13.0             912.0         0.470520               1.0   \n",
      "4            12.0             256.0         0.723577               1.0   \n",
      "\n",
      "   n_non_stop_unique_tokens  num_hrefs  num_self_hrefs  num_imgs  num_videos  \\\n",
      "0                  0.646552        9.0             4.0       7.0         0.0   \n",
      "1                  0.617391       21.0             6.0       1.0         2.0   \n",
      "2                  0.699029       17.0             1.0       1.0         0.0   \n",
      "3                  0.616438       45.0             3.0      42.0         1.0   \n",
      "4                  0.816092        5.0             5.0       1.0        14.0   \n",
      "\n",
      "   average_token_length  ...  avg_positive_polarity  min_positive_polarity  \\\n",
      "0              4.709565  ...               0.382531               0.033333   \n",
      "1              4.835165  ...               0.331818               0.100000   \n",
      "2              5.040777  ...               0.266469               0.100000   \n",
      "3              5.281798  ...               0.504408               0.100000   \n",
      "4              4.398438  ...               0.395105               0.100000   \n",
      "\n",
      "   max_positive_polarity  avg_negative_polarity  min_negative_polarity  \\\n",
      "0                   1.00              -0.389103                   -0.9   \n",
      "1                   0.50               0.000000                    0.0   \n",
      "2                   0.60              -0.270833                   -0.5   \n",
      "3                   1.00              -0.277083                   -1.0   \n",
      "4                   0.85              -0.206494                   -0.5   \n",
      "\n",
      "   max_negative_polarity  title_subjectivity  title_sentiment_polarity  \\\n",
      "0              -0.100000            0.050000                 -0.050000   \n",
      "1               0.000000            0.900000                  0.400000   \n",
      "2              -0.100000            0.377273                 -0.090152   \n",
      "3              -0.050000            0.875000                 -0.500000   \n",
      "4              -0.071429            0.400000                 -0.100000   \n",
      "\n",
      "   abs_title_subjectivity  abs_title_sentiment_polarity  \n",
      "0                0.450000                      0.050000  \n",
      "1                0.400000                      0.400000  \n",
      "2                0.122727                      0.090152  \n",
      "3                0.375000                      0.500000  \n",
      "4                0.100000                      0.100000  \n",
      "\n",
      "[5 rows x 58 columns]\n",
      "\n",
      "First 5 Instance: Test\n",
      "   n_tokens_title  n_tokens_content  n_unique_tokens  n_non_stop_words  \\\n",
      "0            14.0             452.0         0.500000               1.0   \n",
      "1            12.0             313.0         0.593548               1.0   \n",
      "2            12.0             537.0         0.510436               1.0   \n",
      "3             8.0             306.0         0.611111               1.0   \n",
      "4            10.0             754.0         0.513405               1.0   \n",
      "\n",
      "   n_non_stop_unique_tokens  num_hrefs  num_self_hrefs  num_imgs  num_videos  \\\n",
      "0                  0.656604        8.0             6.0       2.0         0.0   \n",
      "1                  0.766304        7.0             5.0       2.0         0.0   \n",
      "2                  0.704918       10.0             1.0       1.0         0.0   \n",
      "3                  0.735751        4.0             0.0       1.0         0.0   \n",
      "4                  0.728337       25.0             2.0       1.0        11.0   \n",
      "\n",
      "   average_token_length  ...  avg_positive_polarity  min_positive_polarity  \\\n",
      "0              4.794248  ...               0.266331               0.062500   \n",
      "1              4.747604  ...               0.325455               0.100000   \n",
      "2              4.757914  ...               0.578846               0.166667   \n",
      "3              4.758170  ...               0.290391               0.033333   \n",
      "4              4.521220  ...               0.373966               0.100000   \n",
      "\n",
      "   max_positive_polarity  avg_negative_polarity  min_negative_polarity  \\\n",
      "0                    0.5              -0.116667                 -0.125   \n",
      "1                    0.7              -0.157292                 -0.400   \n",
      "2                    1.0              -0.181633                 -0.400   \n",
      "3                    0.8              -0.125000                 -0.125   \n",
      "4                    0.8              -0.403613                 -1.000   \n",
      "\n",
      "   max_negative_polarity  title_subjectivity  title_sentiment_polarity  \\\n",
      "0              -0.100000            0.727273                  0.068182   \n",
      "1              -0.050000            0.427273                 -0.056818   \n",
      "2              -0.071429            0.433333                 -0.166667   \n",
      "3              -0.125000            0.066667                  0.033333   \n",
      "4              -0.071429            1.000000                 -0.600000   \n",
      "\n",
      "   abs_title_subjectivity  abs_title_sentiment_polarity  \n",
      "0                0.227273                      0.068182  \n",
      "1                0.072727                      0.056818  \n",
      "2                0.066667                      0.166667  \n",
      "3                0.433333                      0.033333  \n",
      "4                0.500000                      0.600000  \n",
      "\n",
      "[5 rows x 58 columns]\n"
     ]
    }
   ],
   "source": [
    "#### Display the first 5 instances of X data\n",
    "\n",
    "# Insert your code here\n",
    "\n",
    "print(\"\\n************** Data After Index Reset **************\\n\")\n",
    "print(\"\\n************** First 5 Instances of Data **************\")\n",
    "\n",
    "print(\"\\nFirst 5 Instance: Train\")\n",
    "print(X_train.head())\n",
    "print(\"\\nFirst 5 Instance: Validation\")\n",
    "print(X_val.head())\n",
    "print(\"\\nFirst 5 Instance: Test\")\n",
    "print(X_test.head())"
   ],
   "metadata": {
    "collapsed": false,
    "ExecuteTime": {
     "end_time": "2024-05-05T21:50:41.514385Z",
     "start_time": "2024-05-05T21:50:41.317573Z"
    }
   },
   "id": "bb11ae55a33aac3",
   "execution_count": 29
  },
  {
   "cell_type": "code",
   "outputs": [
    {
     "name": "stdout",
     "output_type": "stream",
     "text": [
      "\n",
      "************** Data After Index Reset **************\n",
      "\n",
      "\n",
      "************** First 5 Instances of Data **************\n",
      "\n",
      "First 5 Instance: Train\n",
      "0    1\n",
      "1    0\n",
      "2    0\n",
      "3    0\n",
      "4    0\n",
      "Name: shares, dtype: int64\n",
      "\n",
      "First 5 Instance: Validation\n",
      "0    1\n",
      "1    1\n",
      "2    0\n",
      "3    0\n",
      "4    0\n",
      "Name: shares, dtype: int64\n",
      "\n",
      "First 5 Instance: Test\n",
      "0    1\n",
      "1    0\n",
      "2    1\n",
      "3    1\n",
      "4    1\n",
      "Name: shares, dtype: int64\n"
     ]
    }
   ],
   "source": [
    "#### Display the first 5 instances of Y data\n",
    "\n",
    "# Insert your code here\n",
    "\n",
    "print(\"\\n************** Data After Index Reset **************\\n\")\n",
    "print(\"\\n************** First 5 Instances of Data **************\")\n",
    "\n",
    "print(\"\\nFirst 5 Instance: Train\")\n",
    "print(y_train.head())\n",
    "print(\"\\nFirst 5 Instance: Validation\")\n",
    "print(y_val.head())\n",
    "print(\"\\nFirst 5 Instance: Test\")\n",
    "print(y_test.head())"
   ],
   "metadata": {
    "collapsed": false,
    "ExecuteTime": {
     "end_time": "2024-05-05T23:05:12.518439Z",
     "start_time": "2024-05-05T23:05:12.485278Z"
    }
   },
   "id": "b8799886ea69bacc",
   "execution_count": 40
  },
  {
   "cell_type": "markdown",
   "source": [],
   "metadata": {
    "collapsed": false
   },
   "id": "7fb776de1113b3e8"
  },
  {
   "cell_type": "markdown",
   "source": [
    "## Model Selection and Evaluation\n",
    "Final Selection: Random Forest"
   ],
   "metadata": {
    "collapsed": false
   },
   "id": "fcee6ca7dd0dc07c"
  },
  {
   "cell_type": "code",
   "outputs": [
    {
     "name": "stdout",
     "output_type": "stream",
     "text": [
      "Random Forest Validation Report:\n",
      "              precision    recall  f1-score   support\n",
      "\n",
      "           0       0.64      0.62      0.63      1816\n",
      "           1       0.68      0.70      0.69      2077\n",
      "\n",
      "    accuracy                           0.66      3893\n",
      "   macro avg       0.66      0.66      0.66      3893\n",
      "weighted avg       0.66      0.66      0.66      3893\n",
      "AdaBoost Validation Report:\n",
      "              precision    recall  f1-score   support\n",
      "\n",
      "           0       0.64      0.62      0.63      1816\n",
      "           1       0.68      0.70      0.69      2077\n",
      "\n",
      "    accuracy                           0.66      3893\n",
      "   macro avg       0.66      0.66      0.66      3893\n",
      "weighted avg       0.66      0.66      0.66      3893\n",
      "SVM RBF Validation Report:\n",
      "              precision    recall  f1-score   support\n",
      "\n",
      "           0       0.64      0.59      0.62      1816\n",
      "           1       0.67      0.71      0.69      2077\n",
      "\n",
      "    accuracy                           0.65      3893\n",
      "   macro avg       0.65      0.65      0.65      3893\n",
      "weighted avg       0.65      0.65      0.65      3893\n"
     ]
    },
    {
     "name": "stderr",
     "output_type": "stream",
     "text": [
      "/Users/winnihsu/opt/anaconda3/lib/python3.9/site-packages/sklearn/neighbors/_classification.py:228: FutureWarning: Unlike other reduction functions (e.g. `skew`, `kurtosis`), the default behavior of `mode` typically preserves the axis it acts along. In SciPy 1.11.0, this behavior will change: the default value of `keepdims` will become False, the `axis` over which the statistic is taken will be eliminated, and the value None will no longer be accepted. Set `keepdims` to True or False to avoid this warning.\n",
      "  mode, _ = stats.mode(_y[neigh_ind, k], axis=1)\n"
     ]
    },
    {
     "name": "stdout",
     "output_type": "stream",
     "text": [
      "K-Nearest Neighbors Validation Report:\n",
      "              precision    recall  f1-score   support\n",
      "\n",
      "           0       0.57      0.60      0.58      1816\n",
      "           1       0.63      0.60      0.61      2077\n",
      "\n",
      "    accuracy                           0.60      3893\n",
      "   macro avg       0.60      0.60      0.60      3893\n",
      "weighted avg       0.60      0.60      0.60      3893\n",
      "\n",
      "Naïve Bayes Validation Report:\n",
      "              precision    recall  f1-score   support\n",
      "\n",
      "           0       0.48      0.95      0.64      1816\n",
      "           1       0.70      0.10      0.18      2077\n",
      "\n",
      "    accuracy                           0.50      3893\n",
      "   macro avg       0.59      0.53      0.41      3893\n",
      "weighted avg       0.60      0.50      0.40      3893\n",
      "Test Report for Best Model (Random Forest):\n",
      "               precision    recall  f1-score   support\n",
      "\n",
      "           0       0.66      0.60      0.63      1815\n",
      "           1       0.67      0.72      0.70      2078\n",
      "\n",
      "    accuracy                           0.67      3893\n",
      "   macro avg       0.67      0.66      0.66      3893\n",
      "weighted avg       0.67      0.67      0.67      3893\n"
     ]
    }
   ],
   "source": [
    "from sklearn.ensemble import RandomForestClassifier, AdaBoostClassifier\n",
    "from sklearn.svm import SVC\n",
    "from sklearn.neighbors import KNeighborsClassifier\n",
    "from sklearn.naive_bayes import GaussianNB\n",
    "from sklearn.metrics import classification_report\n",
    "from sklearn.preprocessing import StandardScaler\n",
    "\n",
    "# 初始化模型\n",
    "models = {\n",
    "    \"Random Forest\": RandomForestClassifier(n_estimators=100, random_state=5),\n",
    "    \"AdaBoost\": AdaBoostClassifier(n_estimators=100, random_state=5),\n",
    "    \"SVM RBF\": SVC(kernel='rbf', random_state=5),\n",
    "    \"K-Nearest Neighbors\": KNeighborsClassifier(n_neighbors=5),\n",
    "    \"Naïve Bayes\": GaussianNB()\n",
    "}\n",
    "\n",
    "# 可选：对特征进行缩放（对SVM和KNN更重要）\n",
    "scaler = StandardScaler()\n",
    "X_train_scaled = scaler.fit_transform(X_train)\n",
    "X_val_scaled = scaler.transform(X_val)\n",
    "X_test_scaled = scaler.transform(X_test)\n",
    "\n",
    "# 训练并验证模型\n",
    "validation_scores = {}\n",
    "for name, model in models.items():\n",
    "    if name in [\"SVM RBF\", \"K-Nearest Neighbors\"]:  # 需要特征缩放的模型\n",
    "        model.fit(X_train_scaled, y_train)\n",
    "        y_val_pred = model.predict(X_val_scaled)\n",
    "    else:\n",
    "        model.fit(X_train, y_train)\n",
    "        y_val_pred = model.predict(X_val)\n",
    "\n",
    "    # 评估模型在验证集上的表现\n",
    "    validation_scores[name] = classification_report(y_val, y_val_pred)\n",
    "    print(f\"{name} Validation Report:\\n{validation_scores[name]}\")\n",
    "\n",
    "# 假设 'Random Forest' 为最佳模型\n",
    "best_model = models[\"Random Forest\"]\n",
    "# 在测试集上评估最佳模型\n",
    "y_test_pred = best_model.predict(X_test)  # 注意是否需要缩放取决于模型\n",
    "test_report = classification_report(y_test, y_test_pred)\n",
    "print(\"\\nTest Report for Best Model (Random Forest):\\n\", test_report)\n"
   ],
   "metadata": {
    "collapsed": false,
    "ExecuteTime": {
     "end_time": "2024-05-05T22:24:17.952565Z",
     "start_time": "2024-05-05T22:20:21.863671Z"
    }
   },
   "id": "f7108f9672d272e",
   "execution_count": 38
  },
  {
   "cell_type": "markdown",
   "source": [
    "## Feature Importance"
   ],
   "metadata": {
    "collapsed": false
   },
   "id": "1e34c84bdfb5c640"
  },
  {
   "cell_type": "code",
   "outputs": [
    {
     "name": "stdout",
     "output_type": "stream",
     "text": [
      "                          Feature  Importance\n",
      "25                     kw_avg_avg    0.042243\n",
      "24                     kw_max_avg    0.040992\n",
      "39                         LDA_02    0.032420\n",
      "28     self_reference_avg_sharess    0.030957\n",
      "41                         LDA_04    0.029773\n",
      "26      self_reference_min_shares    0.029536\n",
      "38                         LDA_01    0.029392\n",
      "22                     kw_avg_max    0.029067\n",
      "19                     kw_avg_min    0.028833\n",
      "37                         LDA_00    0.028584\n",
      "4        n_non_stop_unique_tokens    0.027478\n",
      "42            global_subjectivity    0.027156\n",
      "2                 n_unique_tokens    0.027093\n",
      "9            average_token_length    0.027038\n",
      "1                n_tokens_content    0.026399\n",
      "44     global_rate_positive_words    0.026106\n",
      "40                         LDA_03    0.026038\n",
      "18                     kw_max_min    0.025768\n",
      "43      global_sentiment_polarity    0.025661\n",
      "48          avg_positive_polarity    0.025072\n",
      "23                     kw_min_avg    0.023613\n",
      "51          avg_negative_polarity    0.023608\n",
      "45     global_rate_negative_words    0.023537\n",
      "27      self_reference_max_shares    0.023238\n",
      "5                       num_hrefs    0.021181\n",
      "47            rate_negative_words    0.020900\n",
      "46            rate_positive_words    0.020357\n",
      "20                     kw_min_max    0.016624\n",
      "0                  n_tokens_title    0.015570\n",
      "55       title_sentiment_polarity    0.015050\n",
      "52          min_negative_polarity    0.014676\n",
      "7                        num_imgs    0.014163\n",
      "53          max_negative_polarity    0.013651\n",
      "6                  num_self_hrefs    0.013166\n",
      "54             title_subjectivity    0.013046\n",
      "49          min_positive_polarity    0.012611\n",
      "57   abs_title_sentiment_polarity    0.012047\n",
      "56         abs_title_subjectivity    0.011962\n",
      "50          max_positive_polarity    0.010606\n",
      "36                     is_weekend    0.010290\n",
      "10                   num_keywords    0.010244\n",
      "12  data_channel_is_entertainment    0.008641\n",
      "8                      num_videos    0.008193\n",
      "21                     kw_max_max    0.007845\n",
      "16          data_channel_is_world    0.006366\n",
      "17                     kw_min_min    0.005806\n",
      "14         data_channel_is_socmed    0.005691\n",
      "15           data_channel_is_tech    0.005069\n",
      "34            weekday_is_saturday    0.004124\n",
      "31           weekday_is_wednesday    0.003499\n",
      "30             weekday_is_tuesday    0.003365\n",
      "32            weekday_is_thursday    0.003084\n",
      "33              weekday_is_friday    0.003059\n",
      "29              weekday_is_monday    0.003045\n",
      "13            data_channel_is_bus    0.002376\n",
      "35              weekday_is_sunday    0.002289\n",
      "11      data_channel_is_lifestyle    0.001704\n",
      "3                n_non_stop_words    0.000098\n"
     ]
    }
   ],
   "source": [
    "from sklearn.ensemble import RandomForestClassifier\n",
    "import pandas as pd\n",
    "\n",
    "# 初始化 RandomForest 模型\n",
    "rf = RandomForestClassifier(n_estimators=100, random_state=5)\n",
    "\n",
    "# 训练模型\n",
    "rf.fit(X_train, y_train)\n",
    "\n",
    "# 获取特征重要性\n",
    "feature_importances = rf.feature_importances_\n",
    "\n",
    "# 将特征重要性与特征名称结合\n",
    "features = pd.DataFrame({\n",
    "    'Feature': X_train.columns,\n",
    "    'Importance': feature_importances\n",
    "}).sort_values(by='Importance', ascending=False)\n",
    "\n",
    "# 输出特征重要性\n",
    "print(features)\n"
   ],
   "metadata": {
    "collapsed": false,
    "ExecuteTime": {
     "end_time": "2024-05-05T22:28:10.327466Z",
     "start_time": "2024-05-05T22:27:50.348238Z"
    }
   },
   "id": "ff02f60a2a706315",
   "execution_count": 39
  },
  {
   "cell_type": "markdown",
   "source": [
    "## SHAP Value\n",
    "SHAP values explain the impact of each feature on the prediction of a model, illustrating how much each feature contributes to the output, positively or negatively."
   ],
   "metadata": {
    "collapsed": false
   },
   "id": "a50dc855b7c76579"
  },
  {
   "cell_type": "code",
   "outputs": [
    {
     "data": {
      "text/plain": "  0%|          | 0/3893 [00:00<?, ?it/s]",
      "application/vnd.jupyter.widget-view+json": {
       "version_major": 2,
       "version_minor": 0,
       "model_id": "572123d67db7406ea12575aa6ce4819c"
      }
     },
     "metadata": {},
     "output_type": "display_data"
    },
    {
     "ename": "KeyboardInterrupt",
     "evalue": "",
     "output_type": "error",
     "traceback": [
      "\u001B[0;31m---------------------------------------------------------------------------\u001B[0m",
      "\u001B[0;31mKeyboardInterrupt\u001B[0m                         Traceback (most recent call last)",
      "\u001B[0;32m/var/folders/zr/gz763r157tbc9j8mdwb10x_r0000gn/T/ipykernel_69812/3951127039.py\u001B[0m in \u001B[0;36m<module>\u001B[0;34m\u001B[0m\n\u001B[1;32m      7\u001B[0m \u001B[0mbackground\u001B[0m \u001B[0;34m=\u001B[0m \u001B[0mshap\u001B[0m\u001B[0;34m.\u001B[0m\u001B[0mkmeans\u001B[0m\u001B[0;34m(\u001B[0m\u001B[0mX_train\u001B[0m\u001B[0;34m,\u001B[0m \u001B[0;36m30\u001B[0m\u001B[0;34m)\u001B[0m  \u001B[0;31m# 将数据聚类成30个代表性的簇\u001B[0m\u001B[0;34m\u001B[0m\u001B[0;34m\u001B[0m\u001B[0m\n\u001B[1;32m      8\u001B[0m \u001B[0mexplainer\u001B[0m \u001B[0;34m=\u001B[0m \u001B[0mshap\u001B[0m\u001B[0;34m.\u001B[0m\u001B[0mKernelExplainer\u001B[0m\u001B[0;34m(\u001B[0m\u001B[0mmodel\u001B[0m\u001B[0;34m=\u001B[0m\u001B[0mada\u001B[0m\u001B[0;34m.\u001B[0m\u001B[0mpredict_proba\u001B[0m\u001B[0;34m,\u001B[0m \u001B[0mdata\u001B[0m\u001B[0;34m=\u001B[0m\u001B[0mbackground\u001B[0m\u001B[0;34m)\u001B[0m\u001B[0;34m\u001B[0m\u001B[0;34m\u001B[0m\u001B[0m\n\u001B[0;32m----> 9\u001B[0;31m \u001B[0mshap_values\u001B[0m \u001B[0;34m=\u001B[0m \u001B[0mexplainer\u001B[0m\u001B[0;34m.\u001B[0m\u001B[0mshap_values\u001B[0m\u001B[0;34m(\u001B[0m\u001B[0mX_test\u001B[0m\u001B[0;34m,\u001B[0m \u001B[0mnsamples\u001B[0m\u001B[0;34m=\u001B[0m\u001B[0;34m'auto'\u001B[0m\u001B[0;34m)\u001B[0m\u001B[0;34m\u001B[0m\u001B[0;34m\u001B[0m\u001B[0m\n\u001B[0m\u001B[1;32m     10\u001B[0m \u001B[0mshap\u001B[0m\u001B[0;34m.\u001B[0m\u001B[0msummary_plot\u001B[0m\u001B[0;34m(\u001B[0m\u001B[0mshap_values\u001B[0m\u001B[0;34m,\u001B[0m \u001B[0mX_test\u001B[0m\u001B[0;34m)\u001B[0m\u001B[0;34m\u001B[0m\u001B[0;34m\u001B[0m\u001B[0m\n\u001B[1;32m     11\u001B[0m \u001B[0;34m\u001B[0m\u001B[0m\n",
      "\u001B[0;32m~/opt/anaconda3/lib/python3.9/site-packages/shap/explainers/_kernel.py\u001B[0m in \u001B[0;36mshap_values\u001B[0;34m(self, X, **kwargs)\u001B[0m\n\u001B[1;32m    269\u001B[0m                 \u001B[0;32mif\u001B[0m \u001B[0mself\u001B[0m\u001B[0;34m.\u001B[0m\u001B[0mkeep_index\u001B[0m\u001B[0;34m:\u001B[0m\u001B[0;34m\u001B[0m\u001B[0;34m\u001B[0m\u001B[0m\n\u001B[1;32m    270\u001B[0m                     \u001B[0mdata\u001B[0m \u001B[0;34m=\u001B[0m \u001B[0mconvert_to_instance_with_index\u001B[0m\u001B[0;34m(\u001B[0m\u001B[0mdata\u001B[0m\u001B[0;34m,\u001B[0m \u001B[0mcolumn_name\u001B[0m\u001B[0;34m,\u001B[0m \u001B[0mindex_value\u001B[0m\u001B[0;34m[\u001B[0m\u001B[0mi\u001B[0m\u001B[0;34m:\u001B[0m\u001B[0mi\u001B[0m \u001B[0;34m+\u001B[0m \u001B[0;36m1\u001B[0m\u001B[0;34m]\u001B[0m\u001B[0;34m,\u001B[0m \u001B[0mindex_name\u001B[0m\u001B[0;34m)\u001B[0m\u001B[0;34m\u001B[0m\u001B[0;34m\u001B[0m\u001B[0m\n\u001B[0;32m--> 271\u001B[0;31m                 \u001B[0mexplanations\u001B[0m\u001B[0;34m.\u001B[0m\u001B[0mappend\u001B[0m\u001B[0;34m(\u001B[0m\u001B[0mself\u001B[0m\u001B[0;34m.\u001B[0m\u001B[0mexplain\u001B[0m\u001B[0;34m(\u001B[0m\u001B[0mdata\u001B[0m\u001B[0;34m,\u001B[0m \u001B[0;34m**\u001B[0m\u001B[0mkwargs\u001B[0m\u001B[0;34m)\u001B[0m\u001B[0;34m)\u001B[0m\u001B[0;34m\u001B[0m\u001B[0;34m\u001B[0m\u001B[0m\n\u001B[0m\u001B[1;32m    272\u001B[0m                 \u001B[0;32mif\u001B[0m \u001B[0mkwargs\u001B[0m\u001B[0;34m.\u001B[0m\u001B[0mget\u001B[0m\u001B[0;34m(\u001B[0m\u001B[0;34m\"gc_collect\"\u001B[0m\u001B[0;34m,\u001B[0m \u001B[0;32mFalse\u001B[0m\u001B[0;34m)\u001B[0m\u001B[0;34m:\u001B[0m\u001B[0;34m\u001B[0m\u001B[0;34m\u001B[0m\u001B[0m\n\u001B[1;32m    273\u001B[0m                     \u001B[0mgc\u001B[0m\u001B[0;34m.\u001B[0m\u001B[0mcollect\u001B[0m\u001B[0;34m(\u001B[0m\u001B[0;34m)\u001B[0m\u001B[0;34m\u001B[0m\u001B[0;34m\u001B[0m\u001B[0m\n",
      "\u001B[0;32m~/opt/anaconda3/lib/python3.9/site-packages/shap/explainers/_kernel.py\u001B[0m in \u001B[0;36mexplain\u001B[0;34m(self, incoming_instance, **kwargs)\u001B[0m\n\u001B[1;32m    474\u001B[0m \u001B[0;34m\u001B[0m\u001B[0m\n\u001B[1;32m    475\u001B[0m             \u001B[0;31m# execute the model on the synthetic samples we have created\u001B[0m\u001B[0;34m\u001B[0m\u001B[0;34m\u001B[0m\u001B[0m\n\u001B[0;32m--> 476\u001B[0;31m             \u001B[0mself\u001B[0m\u001B[0;34m.\u001B[0m\u001B[0mrun\u001B[0m\u001B[0;34m(\u001B[0m\u001B[0;34m)\u001B[0m\u001B[0;34m\u001B[0m\u001B[0;34m\u001B[0m\u001B[0m\n\u001B[0m\u001B[1;32m    477\u001B[0m \u001B[0;34m\u001B[0m\u001B[0m\n\u001B[1;32m    478\u001B[0m             \u001B[0;31m# solve then expand the feature importance (Shapley value) vector to contain the non-varying features\u001B[0m\u001B[0;34m\u001B[0m\u001B[0;34m\u001B[0m\u001B[0m\n",
      "\u001B[0;32m~/opt/anaconda3/lib/python3.9/site-packages/shap/explainers/_kernel.py\u001B[0m in \u001B[0;36mrun\u001B[0;34m(self)\u001B[0m\n\u001B[1;32m    613\u001B[0m             \u001B[0;32mif\u001B[0m \u001B[0mself\u001B[0m\u001B[0;34m.\u001B[0m\u001B[0mkeep_index_ordered\u001B[0m\u001B[0;34m:\u001B[0m\u001B[0;34m\u001B[0m\u001B[0;34m\u001B[0m\u001B[0m\n\u001B[1;32m    614\u001B[0m                 \u001B[0mdata\u001B[0m \u001B[0;34m=\u001B[0m \u001B[0mdata\u001B[0m\u001B[0;34m.\u001B[0m\u001B[0msort_index\u001B[0m\u001B[0;34m(\u001B[0m\u001B[0;34m)\u001B[0m\u001B[0;34m\u001B[0m\u001B[0;34m\u001B[0m\u001B[0m\n\u001B[0;32m--> 615\u001B[0;31m         \u001B[0mmodelOut\u001B[0m \u001B[0;34m=\u001B[0m \u001B[0mself\u001B[0m\u001B[0;34m.\u001B[0m\u001B[0mmodel\u001B[0m\u001B[0;34m.\u001B[0m\u001B[0mf\u001B[0m\u001B[0;34m(\u001B[0m\u001B[0mdata\u001B[0m\u001B[0;34m)\u001B[0m\u001B[0;34m\u001B[0m\u001B[0;34m\u001B[0m\u001B[0m\n\u001B[0m\u001B[1;32m    616\u001B[0m         \u001B[0;32mif\u001B[0m \u001B[0misinstance\u001B[0m\u001B[0;34m(\u001B[0m\u001B[0mmodelOut\u001B[0m\u001B[0;34m,\u001B[0m \u001B[0;34m(\u001B[0m\u001B[0mpd\u001B[0m\u001B[0;34m.\u001B[0m\u001B[0mDataFrame\u001B[0m\u001B[0;34m,\u001B[0m \u001B[0mpd\u001B[0m\u001B[0;34m.\u001B[0m\u001B[0mSeries\u001B[0m\u001B[0;34m)\u001B[0m\u001B[0;34m)\u001B[0m\u001B[0;34m:\u001B[0m\u001B[0;34m\u001B[0m\u001B[0;34m\u001B[0m\u001B[0m\n\u001B[1;32m    617\u001B[0m             \u001B[0mmodelOut\u001B[0m \u001B[0;34m=\u001B[0m \u001B[0mmodelOut\u001B[0m\u001B[0;34m.\u001B[0m\u001B[0mvalues\u001B[0m\u001B[0;34m\u001B[0m\u001B[0;34m\u001B[0m\u001B[0m\n",
      "\u001B[0;32m~/opt/anaconda3/lib/python3.9/site-packages/sklearn/ensemble/_weight_boosting.py\u001B[0m in \u001B[0;36mpredict_proba\u001B[0;34m(self, X)\u001B[0m\n\u001B[1;32m    856\u001B[0m             \u001B[0;32mreturn\u001B[0m \u001B[0mnp\u001B[0m\u001B[0;34m.\u001B[0m\u001B[0mones\u001B[0m\u001B[0;34m(\u001B[0m\u001B[0;34m(\u001B[0m\u001B[0m_num_samples\u001B[0m\u001B[0;34m(\u001B[0m\u001B[0mX\u001B[0m\u001B[0;34m)\u001B[0m\u001B[0;34m,\u001B[0m \u001B[0;36m1\u001B[0m\u001B[0;34m)\u001B[0m\u001B[0;34m)\u001B[0m\u001B[0;34m\u001B[0m\u001B[0;34m\u001B[0m\u001B[0m\n\u001B[1;32m    857\u001B[0m \u001B[0;34m\u001B[0m\u001B[0m\n\u001B[0;32m--> 858\u001B[0;31m         \u001B[0mdecision\u001B[0m \u001B[0;34m=\u001B[0m \u001B[0mself\u001B[0m\u001B[0;34m.\u001B[0m\u001B[0mdecision_function\u001B[0m\u001B[0;34m(\u001B[0m\u001B[0mX\u001B[0m\u001B[0;34m)\u001B[0m\u001B[0;34m\u001B[0m\u001B[0;34m\u001B[0m\u001B[0m\n\u001B[0m\u001B[1;32m    859\u001B[0m         \u001B[0;32mreturn\u001B[0m \u001B[0mself\u001B[0m\u001B[0;34m.\u001B[0m\u001B[0m_compute_proba_from_decision\u001B[0m\u001B[0;34m(\u001B[0m\u001B[0mdecision\u001B[0m\u001B[0;34m,\u001B[0m \u001B[0mn_classes\u001B[0m\u001B[0;34m)\u001B[0m\u001B[0;34m\u001B[0m\u001B[0;34m\u001B[0m\u001B[0m\n\u001B[1;32m    860\u001B[0m \u001B[0;34m\u001B[0m\u001B[0m\n",
      "\u001B[0;32m~/opt/anaconda3/lib/python3.9/site-packages/sklearn/ensemble/_weight_boosting.py\u001B[0m in \u001B[0;36mdecision_function\u001B[0;34m(self, X)\u001B[0m\n\u001B[1;32m    745\u001B[0m         \u001B[0;32mif\u001B[0m \u001B[0mself\u001B[0m\u001B[0;34m.\u001B[0m\u001B[0malgorithm\u001B[0m \u001B[0;34m==\u001B[0m \u001B[0;34m\"SAMME.R\"\u001B[0m\u001B[0;34m:\u001B[0m\u001B[0;34m\u001B[0m\u001B[0;34m\u001B[0m\u001B[0m\n\u001B[1;32m    746\u001B[0m             \u001B[0;31m# The weights are all 1. for SAMME.R\u001B[0m\u001B[0;34m\u001B[0m\u001B[0;34m\u001B[0m\u001B[0m\n\u001B[0;32m--> 747\u001B[0;31m             pred = sum(\n\u001B[0m\u001B[1;32m    748\u001B[0m                 \u001B[0m_samme_proba\u001B[0m\u001B[0;34m(\u001B[0m\u001B[0mestimator\u001B[0m\u001B[0;34m,\u001B[0m \u001B[0mn_classes\u001B[0m\u001B[0;34m,\u001B[0m \u001B[0mX\u001B[0m\u001B[0;34m)\u001B[0m \u001B[0;32mfor\u001B[0m \u001B[0mestimator\u001B[0m \u001B[0;32min\u001B[0m \u001B[0mself\u001B[0m\u001B[0;34m.\u001B[0m\u001B[0mestimators_\u001B[0m\u001B[0;34m\u001B[0m\u001B[0;34m\u001B[0m\u001B[0m\n\u001B[1;32m    749\u001B[0m             )\n",
      "\u001B[0;32m~/opt/anaconda3/lib/python3.9/site-packages/sklearn/ensemble/_weight_boosting.py\u001B[0m in \u001B[0;36m<genexpr>\u001B[0;34m(.0)\u001B[0m\n\u001B[1;32m    746\u001B[0m             \u001B[0;31m# The weights are all 1. for SAMME.R\u001B[0m\u001B[0;34m\u001B[0m\u001B[0;34m\u001B[0m\u001B[0m\n\u001B[1;32m    747\u001B[0m             pred = sum(\n\u001B[0;32m--> 748\u001B[0;31m                 \u001B[0m_samme_proba\u001B[0m\u001B[0;34m(\u001B[0m\u001B[0mestimator\u001B[0m\u001B[0;34m,\u001B[0m \u001B[0mn_classes\u001B[0m\u001B[0;34m,\u001B[0m \u001B[0mX\u001B[0m\u001B[0;34m)\u001B[0m \u001B[0;32mfor\u001B[0m \u001B[0mestimator\u001B[0m \u001B[0;32min\u001B[0m \u001B[0mself\u001B[0m\u001B[0;34m.\u001B[0m\u001B[0mestimators_\u001B[0m\u001B[0;34m\u001B[0m\u001B[0;34m\u001B[0m\u001B[0m\n\u001B[0m\u001B[1;32m    749\u001B[0m             )\n\u001B[1;32m    750\u001B[0m         \u001B[0;32melse\u001B[0m\u001B[0;34m:\u001B[0m  \u001B[0;31m# self.algorithm == \"SAMME\"\u001B[0m\u001B[0;34m\u001B[0m\u001B[0;34m\u001B[0m\u001B[0m\n",
      "\u001B[0;32m~/opt/anaconda3/lib/python3.9/site-packages/sklearn/ensemble/_weight_boosting.py\u001B[0m in \u001B[0;36m_samme_proba\u001B[0;34m(estimator, n_classes, X)\u001B[0m\n\u001B[1;32m    298\u001B[0m \u001B[0;34m\u001B[0m\u001B[0m\n\u001B[1;32m    299\u001B[0m     \"\"\"\n\u001B[0;32m--> 300\u001B[0;31m     \u001B[0mproba\u001B[0m \u001B[0;34m=\u001B[0m \u001B[0mestimator\u001B[0m\u001B[0;34m.\u001B[0m\u001B[0mpredict_proba\u001B[0m\u001B[0;34m(\u001B[0m\u001B[0mX\u001B[0m\u001B[0;34m)\u001B[0m\u001B[0;34m\u001B[0m\u001B[0;34m\u001B[0m\u001B[0m\n\u001B[0m\u001B[1;32m    301\u001B[0m \u001B[0;34m\u001B[0m\u001B[0m\n\u001B[1;32m    302\u001B[0m     \u001B[0;31m# Displace zero probabilities so the log is defined.\u001B[0m\u001B[0;34m\u001B[0m\u001B[0;34m\u001B[0m\u001B[0m\n",
      "\u001B[0;32m~/opt/anaconda3/lib/python3.9/site-packages/sklearn/tree/_classes.py\u001B[0m in \u001B[0;36mpredict_proba\u001B[0;34m(self, X, check_input)\u001B[0m\n\u001B[1;32m    976\u001B[0m             \u001B[0mnormalizer\u001B[0m \u001B[0;34m=\u001B[0m \u001B[0mproba\u001B[0m\u001B[0;34m.\u001B[0m\u001B[0msum\u001B[0m\u001B[0;34m(\u001B[0m\u001B[0maxis\u001B[0m\u001B[0;34m=\u001B[0m\u001B[0;36m1\u001B[0m\u001B[0;34m)\u001B[0m\u001B[0;34m[\u001B[0m\u001B[0;34m:\u001B[0m\u001B[0;34m,\u001B[0m \u001B[0mnp\u001B[0m\u001B[0;34m.\u001B[0m\u001B[0mnewaxis\u001B[0m\u001B[0;34m]\u001B[0m\u001B[0;34m\u001B[0m\u001B[0;34m\u001B[0m\u001B[0m\n\u001B[1;32m    977\u001B[0m             \u001B[0mnormalizer\u001B[0m\u001B[0;34m[\u001B[0m\u001B[0mnormalizer\u001B[0m \u001B[0;34m==\u001B[0m \u001B[0;36m0.0\u001B[0m\u001B[0;34m]\u001B[0m \u001B[0;34m=\u001B[0m \u001B[0;36m1.0\u001B[0m\u001B[0;34m\u001B[0m\u001B[0;34m\u001B[0m\u001B[0m\n\u001B[0;32m--> 978\u001B[0;31m             \u001B[0mproba\u001B[0m \u001B[0;34m/=\u001B[0m \u001B[0mnormalizer\u001B[0m\u001B[0;34m\u001B[0m\u001B[0;34m\u001B[0m\u001B[0m\n\u001B[0m\u001B[1;32m    979\u001B[0m \u001B[0;34m\u001B[0m\u001B[0m\n\u001B[1;32m    980\u001B[0m             \u001B[0;32mreturn\u001B[0m \u001B[0mproba\u001B[0m\u001B[0;34m\u001B[0m\u001B[0;34m\u001B[0m\u001B[0m\n",
      "\u001B[0;31mKeyboardInterrupt\u001B[0m: "
     ]
    }
   ],
   "source": [
    "import shap\n",
    "\n",
    "# 使用 k-means 聚类选择样本\n",
    "background = shap.kmeans(X_train, 30)  # 将数据聚类成30个代表性的簇\n",
    "\n",
    "# 使用 KernelExplainer，需要传递一个函数和一组背景数据\n",
    "# 这里使用的函数是模型的predict_proba方法，它将返回每个类别的预测概率\n",
    "explainer = shap.KernelExplainer(model=rf.predict_proba, data=background)\n",
    "\n",
    "# 计算 SHAP 值，`nsamples='auto'` 让 SHAP 自动确定每个预测使用的样本数量\n",
    "shap_values = explainer.shap_values(X_test, nsamples='auto')\n",
    "\n",
    "# 绘制 SHAP 总结图\n",
    "shap.summary_plot(shap_values, X_test)\n",
    "\n",
    "\n"
   ],
   "metadata": {
    "collapsed": false,
    "ExecuteTime": {
     "end_time": "2024-05-05T22:04:41.770042Z",
     "start_time": "2024-05-05T22:04:29.913687Z"
    }
   },
   "id": "dfcfc1e46407f7eb",
   "execution_count": 36
  }
 ],
 "metadata": {
  "kernelspec": {
   "display_name": "Python 3",
   "language": "python",
   "name": "python3"
  },
  "language_info": {
   "codemirror_mode": {
    "name": "ipython",
    "version": 2
   },
   "file_extension": ".py",
   "mimetype": "text/x-python",
   "name": "python",
   "nbconvert_exporter": "python",
   "pygments_lexer": "ipython2",
   "version": "2.7.6"
  }
 },
 "nbformat": 4,
 "nbformat_minor": 5
}
